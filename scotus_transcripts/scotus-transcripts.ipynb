{
 "cells": [
  {
   "cell_type": "code",
   "execution_count": 16,
   "metadata": {
    "collapsed": true
   },
   "outputs": [],
   "source": [
    "import pandas as pd\n",
    "%matplotlib inline"
   ]
  },
  {
   "cell_type": "code",
   "execution_count": 2,
   "metadata": {
    "collapsed": false
   },
   "outputs": [
    {
     "name": "stdout",
     "output_type": "stream",
     "text": [
      "  % Total    % Received % Xferd  Average Speed   Time    Time     Time  Current\n",
      "                                 Dload  Upload   Total   Spent    Left  Speed\n",
      "100 9914k  100 9914k    0     0  1959k      0  0:00:05  0:00:05 --:--:-- 2132k\n"
     ]
    }
   ],
   "source": [
    "!curl \"https://confluence.cornell.edu/download/attachments/172918779/supreme_court_dialogs_corpus_v1.01.zip?version=1&modificationDate=1351805307000&api=v2\" -o scotus.zip"
   ]
  },
  {
   "cell_type": "code",
   "execution_count": 3,
   "metadata": {
    "collapsed": false
   },
   "outputs": [
    {
     "name": "stdout",
     "output_type": "stream",
     "text": [
      "Archive:  scotus.zip\n",
      "   creating: supreme_court_dialogs_corpus_v1.01/\n",
      "  inflating: supreme_court_dialogs_corpus_v1.01/.DS_Store  \n",
      "   creating: __MACOSX/\n",
      "   creating: __MACOSX/supreme_court_dialogs_corpus_v1.01/\n",
      "  inflating: __MACOSX/supreme_court_dialogs_corpus_v1.01/._.DS_Store  \n",
      "  inflating: supreme_court_dialogs_corpus_v1.01/echoes_of_power.pdf  \n",
      "  inflating: __MACOSX/supreme_court_dialogs_corpus_v1.01/._echoes_of_power.pdf  \n",
      "  inflating: supreme_court_dialogs_corpus_v1.01/supreme.conversations.txt  \n",
      "  inflating: __MACOSX/supreme_court_dialogs_corpus_v1.01/._supreme.conversations.txt  \n",
      "  inflating: supreme_court_dialogs_corpus_v1.01/supreme.gender.txt  \n",
      "  inflating: supreme_court_dialogs_corpus_v1.01/supreme.outcome.txt  \n",
      "  inflating: supreme_court_dialogs_corpus_v1.01/supreme.README.v1.01.txt  \n",
      "  inflating: __MACOSX/supreme_court_dialogs_corpus_v1.01/._supreme.README.v1.01.txt  \n",
      "  inflating: supreme_court_dialogs_corpus_v1.01/supreme.votes.txt  \n",
      "  inflating: supreme_court_dialogs_corpus_v1.01/timothy_hawes_thesis.pdf  \n",
      "  inflating: __MACOSX/supreme_court_dialogs_corpus_v1.01/._timothy_hawes_thesis.pdf  \n"
     ]
    }
   ],
   "source": [
    "!unzip scotus.zip "
   ]
  },
  {
   "cell_type": "code",
   "execution_count": 4,
   "metadata": {
    "collapsed": false
   },
   "outputs": [],
   "source": [
    "!rm -rf supreme_court_dialogs_corpus_v1.01/__MACOSX/"
   ]
  },
  {
   "cell_type": "code",
   "execution_count": 5,
   "metadata": {
    "collapsed": false
   },
   "outputs": [
    {
     "name": "stdout",
     "output_type": "stream",
     "text": [
      "echoes_of_power.pdf\t   supreme.outcome.txt\t     timothy_hawes_thesis.pdf\r\n",
      "supreme.conversations.txt  supreme.README.v1.01.txt\r\n",
      "supreme.gender.txt\t   supreme.votes.txt\r\n"
     ]
    }
   ],
   "source": [
    "!ls supreme_court_dialogs_corpus_v1.01/"
   ]
  },
  {
   "cell_type": "code",
   "execution_count": 6,
   "metadata": {
    "collapsed": true
   },
   "outputs": [],
   "source": [
    "with open(\"supreme_court_dialogs_corpus_v1.01/supreme.conversations.txt\") as f:\n",
    "    text = f.read()"
   ]
  },
  {
   "cell_type": "code",
   "execution_count": 7,
   "metadata": {
    "collapsed": false
   },
   "outputs": [
    {
     "data": {
      "text/plain": [
       "['02-1472',\n",
       " '4',\n",
       " 'FALSE',\n",
       " 'MR. MILLER',\n",
       " 'NOT JUSTICE',\n",
       " 'NA',\n",
       " 'PETITIONER',\n",
       " 'Justice Stevens, and may it please the Court: These two contract cases concern whether the Government is liable in money damages under the Contract Disputes Act and section 110 of the Indian Self-Determination Act when the Secretary fails to fully pay a contract price for the --']"
      ]
     },
     "execution_count": 7,
     "metadata": {},
     "output_type": "execute_result"
    }
   ],
   "source": [
    "text.split(\"\\n\")[1].split(\" +++$+++ \")"
   ]
  },
  {
   "cell_type": "code",
   "execution_count": 8,
   "metadata": {
    "collapsed": false
   },
   "outputs": [
    {
     "data": {
      "text/plain": [
       "51499"
      ]
     },
     "execution_count": 8,
     "metadata": {},
     "output_type": "execute_result"
    }
   ],
   "source": [
    "len(text.split(\"\\n\"))"
   ]
  },
  {
   "cell_type": "code",
   "execution_count": 9,
   "metadata": {
    "collapsed": false
   },
   "outputs": [
    {
     "data": {
      "text/html": [
       "<div>\n",
       "<table border=\"1\" class=\"dataframe\">\n",
       "  <thead>\n",
       "    <tr style=\"text-align: right;\">\n",
       "      <th></th>\n",
       "      <th>case_id</th>\n",
       "      <th>after_previous</th>\n",
       "      <th>speaker</th>\n",
       "      <th>is_justice</th>\n",
       "      <th>justice_vote</th>\n",
       "      <th>presentation_side</th>\n",
       "      <th>utterance</th>\n",
       "    </tr>\n",
       "  </thead>\n",
       "  <tbody>\n",
       "  </tbody>\n",
       "</table>\n",
       "</div>"
      ],
      "text/plain": [
       "Empty DataFrame\n",
       "Columns: [case_id, after_previous, speaker, is_justice, justice_vote, presentation_side, utterance]\n",
       "Index: []"
      ]
     },
     "execution_count": 9,
     "metadata": {},
     "output_type": "execute_result"
    }
   ],
   "source": [
    "corpus_df = pd.DataFrame(columns=[\"case_id\", \"after_previous\", \"speaker\", \"is_justice\", \"justice_vote\", \"presentation_side\", \"utterance\"])\n",
    "corpus_df\n",
    "        "
   ]
  },
  {
   "cell_type": "code",
   "execution_count": 10,
   "metadata": {
    "collapsed": false,
    "scrolled": true
   },
   "outputs": [
    {
     "name": "stdout",
     "output_type": "stream",
     "text": [
      "1000 1.941785277384027 % \n",
      "2000 3.883570554768054 % \n",
      "3000 5.825355832152081 % \n",
      "4000 7.767141109536108 % \n",
      "5000 9.708926386920135 % \n",
      "6000 11.650711664304161 % \n",
      "7000 13.592496941688188 % \n",
      "8000 15.534282219072216 % \n",
      "9000 17.476067496456242 % \n",
      "10000 19.41785277384027 % \n",
      "11000 21.359638051224294 % \n",
      "12000 23.301423328608323 % \n",
      "13000 25.24320860599235 % \n",
      "14000 27.184993883376375 % \n",
      "15000 29.126779160760403 % \n",
      "16000 31.06856443814443 % \n",
      "17000 33.010349715528456 % \n",
      "18000 34.952134992912484 % \n",
      "19000 36.89392027029651 % \n",
      "20000 38.83570554768054 % \n",
      "21000 40.77749082506457 % \n",
      "22000 42.71927610244859 % \n",
      "23000 44.66106137983262 % \n",
      "24000 46.602846657216645 % \n",
      "25000 48.54463193460067 % \n",
      "26000 50.4864172119847 % \n",
      "27000 52.42820248936872 % \n",
      "28000 54.36998776675275 % \n",
      "29000 56.31177304413678 % \n",
      "30000 58.253558321520806 % \n",
      "31000 60.19534359890484 % \n",
      "32000 62.13712887628886 % \n",
      "33000 64.07891415367288 % \n",
      "34000 66.02069943105691 % \n",
      "35000 67.96248470844094 % \n",
      "36000 69.90426998582497 % \n",
      "37000 71.846055263209 % \n",
      "38000 73.78784054059302 % \n",
      "39000 75.72962581797705 % \n",
      "40000 77.67141109536108 % \n",
      "41000 79.6131963727451 % \n",
      "42000 81.55498165012914 % \n",
      "43000 83.49676692751315 % \n",
      "44000 85.43855220489718 % \n",
      "45000 87.3803374822812 % \n",
      "46000 89.32212275966523 % \n",
      "47000 91.26390803704926 % \n",
      "48000 93.20569331443329 % \n",
      "49000 95.14747859181732 % \n",
      "50000 97.08926386920135 % \n",
      "51000 99.03104914658537 % \n"
     ]
    },
    {
     "ename": "IndexError",
     "evalue": "list index out of range",
     "output_type": "error",
     "traceback": [
      "\u001b[1;31m---------------------------------------------------------------------------\u001b[0m",
      "\u001b[1;31mIndexError\u001b[0m                                Traceback (most recent call last)",
      "\u001b[1;32m<ipython-input-10-20c704fcbf40>\u001b[0m in \u001b[0;36m<module>\u001b[1;34m()\u001b[0m\n\u001b[0;32m      2\u001b[0m     \u001b[0mvalues\u001b[0m \u001b[1;33m=\u001b[0m \u001b[0mline\u001b[0m\u001b[1;33m.\u001b[0m\u001b[0msplit\u001b[0m\u001b[1;33m(\u001b[0m\u001b[1;34m\" +++$+++ \"\u001b[0m\u001b[1;33m)\u001b[0m\u001b[1;33m\u001b[0m\u001b[0m\n\u001b[0;32m      3\u001b[0m     \u001b[1;32mif\u001b[0m \u001b[0mvalues\u001b[0m \u001b[1;32mis\u001b[0m \u001b[1;32mnot\u001b[0m \u001b[1;34m''\u001b[0m\u001b[1;33m:\u001b[0m\u001b[1;33m\u001b[0m\u001b[0m\n\u001b[1;32m----> 4\u001b[1;33m         \u001b[0mline_dict\u001b[0m \u001b[1;33m=\u001b[0m \u001b[1;33m{\u001b[0m\u001b[1;34m\"case_id\"\u001b[0m \u001b[1;33m:\u001b[0m \u001b[0mvalues\u001b[0m\u001b[1;33m[\u001b[0m\u001b[1;36m0\u001b[0m\u001b[1;33m]\u001b[0m\u001b[1;33m,\u001b[0m \u001b[1;34m\"after_previous\"\u001b[0m \u001b[1;33m:\u001b[0m \u001b[0mvalues\u001b[0m\u001b[1;33m[\u001b[0m\u001b[1;36m2\u001b[0m\u001b[1;33m]\u001b[0m\u001b[1;33m,\u001b[0m \u001b[1;34m\"speaker\"\u001b[0m \u001b[1;33m:\u001b[0m \u001b[0mvalues\u001b[0m\u001b[1;33m[\u001b[0m\u001b[1;36m3\u001b[0m\u001b[1;33m]\u001b[0m\u001b[1;33m,\u001b[0m \u001b[1;34m\"is_justice\"\u001b[0m \u001b[1;33m:\u001b[0m \u001b[0mvalues\u001b[0m\u001b[1;33m[\u001b[0m\u001b[1;36m4\u001b[0m\u001b[1;33m]\u001b[0m\u001b[1;33m,\u001b[0m \u001b[1;34m\"justice_vote\"\u001b[0m \u001b[1;33m:\u001b[0m \u001b[0mvalues\u001b[0m\u001b[1;33m[\u001b[0m\u001b[1;36m5\u001b[0m\u001b[1;33m]\u001b[0m\u001b[1;33m,\u001b[0m \u001b[1;34m\"presentation_side\"\u001b[0m \u001b[1;33m:\u001b[0m \u001b[0mvalues\u001b[0m\u001b[1;33m[\u001b[0m\u001b[1;36m6\u001b[0m\u001b[1;33m]\u001b[0m\u001b[1;33m,\u001b[0m \u001b[1;34m\"utterance\"\u001b[0m \u001b[1;33m:\u001b[0m \u001b[0mvalues\u001b[0m\u001b[1;33m[\u001b[0m\u001b[1;36m7\u001b[0m\u001b[1;33m]\u001b[0m \u001b[1;33m}\u001b[0m\u001b[1;33m\u001b[0m\u001b[0m\n\u001b[0m\u001b[0;32m      5\u001b[0m         \u001b[0mline_series\u001b[0m \u001b[1;33m=\u001b[0m \u001b[0mpd\u001b[0m\u001b[1;33m.\u001b[0m\u001b[0mSeries\u001b[0m\u001b[1;33m(\u001b[0m\u001b[0mline_dict\u001b[0m\u001b[1;33m,\u001b[0m \u001b[0mname\u001b[0m\u001b[1;33m=\u001b[0m\u001b[0mvalues\u001b[0m\u001b[1;33m[\u001b[0m\u001b[1;36m1\u001b[0m\u001b[1;33m]\u001b[0m\u001b[1;33m)\u001b[0m\u001b[1;33m\u001b[0m\u001b[0m\n\u001b[0;32m      6\u001b[0m         \u001b[0mcorpus_df\u001b[0m \u001b[1;33m=\u001b[0m \u001b[0mcorpus_df\u001b[0m\u001b[1;33m.\u001b[0m\u001b[0mappend\u001b[0m\u001b[1;33m(\u001b[0m\u001b[0mline_series\u001b[0m\u001b[1;33m)\u001b[0m\u001b[1;33m\u001b[0m\u001b[0m\n",
      "\u001b[1;31mIndexError\u001b[0m: list index out of range"
     ]
    }
   ],
   "source": [
    "for line in text.split(\"\\n\"):\n",
    "    values = line.split(\" +++$+++ \")\n",
    "    if values is not '':\n",
    "        line_dict = {\"case_id\" : values[0], \"after_previous\" : values[2], \"speaker\" : values[3], \"is_justice\" : values[4], \"justice_vote\" : values[5], \"presentation_side\" : values[6], \"utterance\" : values[7] } \n",
    "        line_series = pd.Series(line_dict, name=values[1])\n",
    "        corpus_df = corpus_df.append(line_series)\n",
    "        if len(corpus_df) % 1000 is 0:\n",
    "            print(len(corpus_df), len(corpus_df) / len(text.split(\"\\n\")) * 100, \"% \")"
   ]
  },
  {
   "cell_type": "code",
   "execution_count": 14,
   "metadata": {
    "collapsed": false
   },
   "outputs": [
    {
     "data": {
      "text/html": [
       "<div>\n",
       "<table border=\"1\" class=\"dataframe\">\n",
       "  <thead>\n",
       "    <tr style=\"text-align: right;\">\n",
       "      <th></th>\n",
       "      <th>case_id</th>\n",
       "      <th>after_previous</th>\n",
       "      <th>speaker</th>\n",
       "      <th>is_justice</th>\n",
       "      <th>justice_vote</th>\n",
       "      <th>presentation_side</th>\n",
       "      <th>utterance</th>\n",
       "    </tr>\n",
       "  </thead>\n",
       "  <tbody>\n",
       "    <tr>\n",
       "      <th>2</th>\n",
       "      <td>02-1472</td>\n",
       "      <td>FALSE</td>\n",
       "      <td>JUSTICE STEVENS</td>\n",
       "      <td>JUSTICE</td>\n",
       "      <td>PETITIONER</td>\n",
       "      <td></td>\n",
       "      <td>We will now hear argument in the Cherokee Nati...</td>\n",
       "    </tr>\n",
       "    <tr>\n",
       "      <th>4</th>\n",
       "      <td>02-1472</td>\n",
       "      <td>FALSE</td>\n",
       "      <td>MR. MILLER</td>\n",
       "      <td>NOT JUSTICE</td>\n",
       "      <td>NA</td>\n",
       "      <td>PETITIONER</td>\n",
       "      <td>Justice Stevens, and may it please the Court: ...</td>\n",
       "    </tr>\n",
       "    <tr>\n",
       "      <th>5</th>\n",
       "      <td>02-1472</td>\n",
       "      <td>TRUE</td>\n",
       "      <td>JUSTICE O'CONNOR</td>\n",
       "      <td>JUSTICE</td>\n",
       "      <td>PETITIONER</td>\n",
       "      <td>PETITIONER</td>\n",
       "      <td>Would you mind explaining to us how these two ...</td>\n",
       "    </tr>\n",
       "    <tr>\n",
       "      <th>6</th>\n",
       "      <td>02-1472</td>\n",
       "      <td>TRUE</td>\n",
       "      <td>MR. MILLER</td>\n",
       "      <td>NOT JUSTICE</td>\n",
       "      <td>NA</td>\n",
       "      <td>PETITIONER</td>\n",
       "      <td>No, Justice O'Connor. They're -- they're not o...</td>\n",
       "    </tr>\n",
       "    <tr>\n",
       "      <th>7</th>\n",
       "      <td>02-1472</td>\n",
       "      <td>TRUE</td>\n",
       "      <td>JUSTICE O'CONNOR</td>\n",
       "      <td>JUSTICE</td>\n",
       "      <td>PETITIONER</td>\n",
       "      <td>PETITIONER</td>\n",
       "      <td>But they're certainly at odds on the legal the...</td>\n",
       "    </tr>\n",
       "  </tbody>\n",
       "</table>\n",
       "</div>"
      ],
      "text/plain": [
       "   case_id after_previous           speaker   is_justice justice_vote  \\\n",
       "2  02-1472          FALSE   JUSTICE STEVENS      JUSTICE   PETITIONER   \n",
       "4  02-1472          FALSE        MR. MILLER  NOT JUSTICE           NA   \n",
       "5  02-1472           TRUE  JUSTICE O'CONNOR      JUSTICE   PETITIONER   \n",
       "6  02-1472           TRUE        MR. MILLER  NOT JUSTICE           NA   \n",
       "7  02-1472           TRUE  JUSTICE O'CONNOR      JUSTICE   PETITIONER   \n",
       "\n",
       "  presentation_side                                          utterance  \n",
       "2                    We will now hear argument in the Cherokee Nati...  \n",
       "4        PETITIONER  Justice Stevens, and may it please the Court: ...  \n",
       "5        PETITIONER  Would you mind explaining to us how these two ...  \n",
       "6        PETITIONER  No, Justice O'Connor. They're -- they're not o...  \n",
       "7        PETITIONER  But they're certainly at odds on the legal the...  "
      ]
     },
     "execution_count": 14,
     "metadata": {},
     "output_type": "execute_result"
    }
   ],
   "source": [
    "corpus_df[:5]"
   ]
  },
  {
   "cell_type": "code",
   "execution_count": null,
   "metadata": {
    "collapsed": true
   },
   "outputs": [],
   "source": []
  },
  {
   "cell_type": "code",
   "execution_count": null,
   "metadata": {
    "collapsed": true
   },
   "outputs": [],
   "source": []
  }
 ],
 "metadata": {
  "anaconda-cloud": {},
  "kernelspec": {
   "display_name": "Python [Root]",
   "language": "python",
   "name": "Python [Root]"
  },
  "language_info": {
   "codemirror_mode": {
    "name": "ipython",
    "version": 3
   },
   "file_extension": ".py",
   "mimetype": "text/x-python",
   "name": "python",
   "nbconvert_exporter": "python",
   "pygments_lexer": "ipython3",
   "version": "3.5.2"
  }
 },
 "nbformat": 4,
 "nbformat_minor": 0
}
