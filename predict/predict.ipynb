{
 "cells": [
  {
   "cell_type": "code",
   "execution_count": 1,
   "metadata": {
    "collapsed": false
   },
   "outputs": [
    {
     "name": "stdout",
     "output_type": "stream",
     "text": [
      "Requirement already satisfied: tweepy in c:\\programdata\\anaconda3\\lib\\site-packages\n",
      "Requirement already satisfied: pandas in c:\\programdata\\anaconda3\\lib\\site-packages\n",
      "Requirement already satisfied: seaborn in c:\\programdata\\anaconda3\\lib\\site-packages\n",
      "Requirement already satisfied: requests>=2.4.3 in c:\\programdata\\anaconda3\\lib\\site-packages (from tweepy)\n",
      "Requirement already satisfied: requests-oauthlib>=0.4.1 in c:\\programdata\\anaconda3\\lib\\site-packages (from tweepy)\n",
      "Requirement already satisfied: six>=1.7.3 in c:\\programdata\\anaconda3\\lib\\site-packages (from tweepy)\n",
      "Requirement already satisfied: python-dateutil>=2 in c:\\programdata\\anaconda3\\lib\\site-packages (from pandas)\n",
      "Requirement already satisfied: pytz>=2011k in c:\\programdata\\anaconda3\\lib\\site-packages (from pandas)\n",
      "Requirement already satisfied: numpy>=1.7.0 in c:\\programdata\\anaconda3\\lib\\site-packages (from pandas)\n",
      "Requirement already satisfied: oauthlib>=0.6.2 in c:\\programdata\\anaconda3\\lib\\site-packages (from requests-oauthlib>=0.4.1->tweepy)\n"
     ]
    }
   ],
   "source": [
    "!pip install tweepy pandas seaborn "
   ]
  },
  {
   "cell_type": "code",
   "execution_count": 2,
   "metadata": {
    "collapsed": true
   },
   "outputs": [],
   "source": [
    "import random\n",
    "import twitter_login  # a file containing my API keys\n",
    "import tweepy\n",
    "\n",
    "import pandas as pd\n",
    "import matplotlib\n",
    "%matplotlib inline\n",
    "import seaborn as sns\n",
    "import datetime\n",
    "import pytz"
   ]
  },
  {
   "cell_type": "code",
   "execution_count": 3,
   "metadata": {
    "collapsed": true
   },
   "outputs": [],
   "source": [
    "CONSUMER_KEY = twitter_login.CONSUMER_KEY\n",
    "CONSUMER_SECRET = twitter_login.CONSUMER_SECRET\n",
    "ACCESS_TOKEN = twitter_login.ACCESS_TOKEN\n",
    "ACCESS_TOKEN_SECRET = twitter_login.ACCESS_TOKEN_SECRET\n",
    "\n",
    "# Authenticate\n",
    "\n",
    "auth = tweepy.OAuthHandler(CONSUMER_KEY, CONSUMER_SECRET)\n",
    "auth.set_access_token(ACCESS_TOKEN, ACCESS_TOKEN_SECRET)\n",
    "api = tweepy.API(auth)"
   ]
  },
  {
   "cell_type": "code",
   "execution_count": null,
   "metadata": {
    "collapsed": true
   },
   "outputs": [],
   "source": [
    "    statuses = api.search(q=\"Prediction:\",pa)"
   ]
  },
  {
   "cell_type": "code",
   "execution_count": 37,
   "metadata": {
    "collapsed": false
   },
   "outputs": [],
   "source": [
    "results = api.search(q=\"I predict that\")\n",
    "tweet_list = []\n",
    "for result in results:\n",
    "    #print(result.text, result.id, result.created_at)\n",
    "    tweet_list.append(result.text)"
   ]
  },
  {
   "cell_type": "code",
   "execution_count": 38,
   "metadata": {
    "collapsed": false
   },
   "outputs": [
    {
     "data": {
      "text/plain": [
       "832452098327506944"
      ]
     },
     "execution_count": 38,
     "metadata": {},
     "output_type": "execute_result"
    }
   ],
   "source": [
    "result.id"
   ]
  },
  {
   "cell_type": "code",
   "execution_count": 39,
   "metadata": {
    "collapsed": false
   },
   "outputs": [
    {
     "data": {
      "text/plain": [
       "list"
      ]
     },
     "execution_count": 39,
     "metadata": {},
     "output_type": "execute_result"
    }
   ],
   "source": [
    "type(tweet_list)"
   ]
  },
  {
   "cell_type": "code",
   "execution_count": 105,
   "metadata": {
    "collapsed": false
   },
   "outputs": [
    {
     "name": "stdout",
     "output_type": "stream",
     "text": [
      "100 200 300 400 500 600 700 800 900 1000 1100 1200 1300 1400 1500 1600 1700 1800 1900 2000 2100 2200 2300 2400 2500 2600 "
     ]
    },
    {
     "ename": "TweepError",
     "evalue": "Twitter error response: status code = 429",
     "output_type": "error",
     "traceback": [
      "\u001b[0;31m---------------------------------------------------------------------------\u001b[0m",
      "\u001b[0;31mTweepError\u001b[0m                                Traceback (most recent call last)",
      "\u001b[0;32m<ipython-input-105-7bb4ff9d9627>\u001b[0m in \u001b[0;36m<module>\u001b[0;34m()\u001b[0m\n\u001b[1;32m      1\u001b[0m \u001b[0mtweet_list\u001b[0m \u001b[1;33m=\u001b[0m \u001b[1;33m[\u001b[0m\u001b[1;33m]\u001b[0m\u001b[1;33m\u001b[0m\u001b[0m\n\u001b[0;32m----> 2\u001b[0;31m \u001b[1;32mfor\u001b[0m \u001b[0mtweet\u001b[0m \u001b[1;32min\u001b[0m \u001b[0mtweepy\u001b[0m\u001b[1;33m.\u001b[0m\u001b[0mCursor\u001b[0m\u001b[1;33m(\u001b[0m\u001b[0mapi\u001b[0m\u001b[1;33m.\u001b[0m\u001b[0msearch\u001b[0m\u001b[1;33m,\u001b[0m\u001b[0mq\u001b[0m\u001b[1;33m=\u001b[0m\u001b[1;34m'I predict that'\u001b[0m\u001b[1;33m)\u001b[0m\u001b[1;33m.\u001b[0m\u001b[0mitems\u001b[0m\u001b[1;33m(\u001b[0m\u001b[1;33m)\u001b[0m\u001b[1;33m:\u001b[0m\u001b[1;33m\u001b[0m\u001b[0m\n\u001b[0m\u001b[1;32m      3\u001b[0m     \u001b[0mtweet_list\u001b[0m\u001b[1;33m.\u001b[0m\u001b[0mappend\u001b[0m\u001b[1;33m(\u001b[0m\u001b[0mtweet\u001b[0m\u001b[1;33m.\u001b[0m\u001b[0mtext\u001b[0m\u001b[1;33m)\u001b[0m\u001b[1;33m\u001b[0m\u001b[0m\n\u001b[1;32m      4\u001b[0m     \u001b[1;32mif\u001b[0m \u001b[0mlen\u001b[0m\u001b[1;33m(\u001b[0m\u001b[0mtweet_list\u001b[0m\u001b[1;33m)\u001b[0m \u001b[1;33m%\u001b[0m \u001b[1;36m100\u001b[0m \u001b[1;32mis\u001b[0m \u001b[1;36m0\u001b[0m\u001b[1;33m:\u001b[0m\u001b[1;33m\u001b[0m\u001b[0m\n\u001b[1;32m      5\u001b[0m         \u001b[0mprint\u001b[0m\u001b[1;33m(\u001b[0m\u001b[0mlen\u001b[0m\u001b[1;33m(\u001b[0m\u001b[0mtweet_list\u001b[0m\u001b[1;33m)\u001b[0m\u001b[1;33m,\u001b[0m \u001b[0mend\u001b[0m\u001b[1;33m=\u001b[0m\u001b[1;34m\" \"\u001b[0m\u001b[1;33m)\u001b[0m\u001b[1;33m\u001b[0m\u001b[0m\n",
      "\u001b[0;32mC:\\ProgramData\\Anaconda3\\lib\\site-packages\\tweepy\\cursor.py\u001b[0m in \u001b[0;36m__next__\u001b[0;34m(self)\u001b[0m\n\u001b[1;32m     47\u001b[0m \u001b[1;33m\u001b[0m\u001b[0m\n\u001b[1;32m     48\u001b[0m     \u001b[1;32mdef\u001b[0m \u001b[0m__next__\u001b[0m\u001b[1;33m(\u001b[0m\u001b[0mself\u001b[0m\u001b[1;33m)\u001b[0m\u001b[1;33m:\u001b[0m\u001b[1;33m\u001b[0m\u001b[0m\n\u001b[0;32m---> 49\u001b[0;31m         \u001b[1;32mreturn\u001b[0m \u001b[0mself\u001b[0m\u001b[1;33m.\u001b[0m\u001b[0mnext\u001b[0m\u001b[1;33m(\u001b[0m\u001b[1;33m)\u001b[0m\u001b[1;33m\u001b[0m\u001b[0m\n\u001b[0m\u001b[1;32m     50\u001b[0m \u001b[1;33m\u001b[0m\u001b[0m\n\u001b[1;32m     51\u001b[0m     \u001b[1;32mdef\u001b[0m \u001b[0mnext\u001b[0m\u001b[1;33m(\u001b[0m\u001b[0mself\u001b[0m\u001b[1;33m)\u001b[0m\u001b[1;33m:\u001b[0m\u001b[1;33m\u001b[0m\u001b[0m\n",
      "\u001b[0;32mC:\\ProgramData\\Anaconda3\\lib\\site-packages\\tweepy\\cursor.py\u001b[0m in \u001b[0;36mnext\u001b[0;34m(self)\u001b[0m\n\u001b[1;32m    195\u001b[0m         \u001b[1;32mif\u001b[0m \u001b[0mself\u001b[0m\u001b[1;33m.\u001b[0m\u001b[0mcurrent_page\u001b[0m \u001b[1;32mis\u001b[0m \u001b[1;32mNone\u001b[0m \u001b[1;32mor\u001b[0m \u001b[0mself\u001b[0m\u001b[1;33m.\u001b[0m\u001b[0mpage_index\u001b[0m \u001b[1;33m==\u001b[0m \u001b[0mlen\u001b[0m\u001b[1;33m(\u001b[0m\u001b[0mself\u001b[0m\u001b[1;33m.\u001b[0m\u001b[0mcurrent_page\u001b[0m\u001b[1;33m)\u001b[0m \u001b[1;33m-\u001b[0m \u001b[1;36m1\u001b[0m\u001b[1;33m:\u001b[0m\u001b[1;33m\u001b[0m\u001b[0m\n\u001b[1;32m    196\u001b[0m             \u001b[1;31m# Reached end of current page, get the next page...\u001b[0m\u001b[1;33m\u001b[0m\u001b[1;33m\u001b[0m\u001b[0m\n\u001b[0;32m--> 197\u001b[0;31m             \u001b[0mself\u001b[0m\u001b[1;33m.\u001b[0m\u001b[0mcurrent_page\u001b[0m \u001b[1;33m=\u001b[0m \u001b[0mself\u001b[0m\u001b[1;33m.\u001b[0m\u001b[0mpage_iterator\u001b[0m\u001b[1;33m.\u001b[0m\u001b[0mnext\u001b[0m\u001b[1;33m(\u001b[0m\u001b[1;33m)\u001b[0m\u001b[1;33m\u001b[0m\u001b[0m\n\u001b[0m\u001b[1;32m    198\u001b[0m             \u001b[0mself\u001b[0m\u001b[1;33m.\u001b[0m\u001b[0mpage_index\u001b[0m \u001b[1;33m=\u001b[0m \u001b[1;33m-\u001b[0m\u001b[1;36m1\u001b[0m\u001b[1;33m\u001b[0m\u001b[0m\n\u001b[1;32m    199\u001b[0m         \u001b[0mself\u001b[0m\u001b[1;33m.\u001b[0m\u001b[0mpage_index\u001b[0m \u001b[1;33m+=\u001b[0m \u001b[1;36m1\u001b[0m\u001b[1;33m\u001b[0m\u001b[0m\n",
      "\u001b[0;32mC:\\ProgramData\\Anaconda3\\lib\\site-packages\\tweepy\\cursor.py\u001b[0m in \u001b[0;36mnext\u001b[0;34m(self)\u001b[0m\n\u001b[1;32m    106\u001b[0m \u001b[1;33m\u001b[0m\u001b[0m\n\u001b[1;32m    107\u001b[0m         \u001b[1;32mif\u001b[0m \u001b[0mself\u001b[0m\u001b[1;33m.\u001b[0m\u001b[0mindex\u001b[0m \u001b[1;33m>=\u001b[0m \u001b[0mlen\u001b[0m\u001b[1;33m(\u001b[0m\u001b[0mself\u001b[0m\u001b[1;33m.\u001b[0m\u001b[0mresults\u001b[0m\u001b[1;33m)\u001b[0m \u001b[1;33m-\u001b[0m \u001b[1;36m1\u001b[0m\u001b[1;33m:\u001b[0m\u001b[1;33m\u001b[0m\u001b[0m\n\u001b[0;32m--> 108\u001b[0;31m             \u001b[0mdata\u001b[0m \u001b[1;33m=\u001b[0m \u001b[0mself\u001b[0m\u001b[1;33m.\u001b[0m\u001b[0mmethod\u001b[0m\u001b[1;33m(\u001b[0m\u001b[0mmax_id\u001b[0m\u001b[1;33m=\u001b[0m\u001b[0mself\u001b[0m\u001b[1;33m.\u001b[0m\u001b[0mmax_id\u001b[0m\u001b[1;33m,\u001b[0m \u001b[0mparser\u001b[0m\u001b[1;33m=\u001b[0m\u001b[0mRawParser\u001b[0m\u001b[1;33m(\u001b[0m\u001b[1;33m)\u001b[0m\u001b[1;33m,\u001b[0m \u001b[1;33m*\u001b[0m\u001b[0mself\u001b[0m\u001b[1;33m.\u001b[0m\u001b[0margs\u001b[0m\u001b[1;33m,\u001b[0m \u001b[1;33m**\u001b[0m\u001b[0mself\u001b[0m\u001b[1;33m.\u001b[0m\u001b[0mkargs\u001b[0m\u001b[1;33m)\u001b[0m\u001b[1;33m\u001b[0m\u001b[0m\n\u001b[0m\u001b[1;32m    109\u001b[0m \u001b[1;33m\u001b[0m\u001b[0m\n\u001b[1;32m    110\u001b[0m             \u001b[1;32mif\u001b[0m \u001b[0mhasattr\u001b[0m\u001b[1;33m(\u001b[0m\u001b[0mself\u001b[0m\u001b[1;33m.\u001b[0m\u001b[0mmethod\u001b[0m\u001b[1;33m,\u001b[0m \u001b[1;34m'__self__'\u001b[0m\u001b[1;33m)\u001b[0m\u001b[1;33m:\u001b[0m\u001b[1;33m\u001b[0m\u001b[0m\n",
      "\u001b[0;32mC:\\ProgramData\\Anaconda3\\lib\\site-packages\\tweepy\\binder.py\u001b[0m in \u001b[0;36m_call\u001b[0;34m(*args, **kwargs)\u001b[0m\n\u001b[1;32m    243\u001b[0m             \u001b[1;32mreturn\u001b[0m \u001b[0mmethod\u001b[0m\u001b[1;33m\u001b[0m\u001b[0m\n\u001b[1;32m    244\u001b[0m         \u001b[1;32melse\u001b[0m\u001b[1;33m:\u001b[0m\u001b[1;33m\u001b[0m\u001b[0m\n\u001b[0;32m--> 245\u001b[0;31m             \u001b[1;32mreturn\u001b[0m \u001b[0mmethod\u001b[0m\u001b[1;33m.\u001b[0m\u001b[0mexecute\u001b[0m\u001b[1;33m(\u001b[0m\u001b[1;33m)\u001b[0m\u001b[1;33m\u001b[0m\u001b[0m\n\u001b[0m\u001b[1;32m    246\u001b[0m \u001b[1;33m\u001b[0m\u001b[0m\n\u001b[1;32m    247\u001b[0m     \u001b[1;31m# Set pagination mode\u001b[0m\u001b[1;33m\u001b[0m\u001b[1;33m\u001b[0m\u001b[0m\n",
      "\u001b[0;32mC:\\ProgramData\\Anaconda3\\lib\\site-packages\\tweepy\\binder.py\u001b[0m in \u001b[0;36mexecute\u001b[0;34m(self)\u001b[0m\n\u001b[1;32m    227\u001b[0m                     \u001b[1;32mraise\u001b[0m \u001b[0mRateLimitError\u001b[0m\u001b[1;33m(\u001b[0m\u001b[0merror_msg\u001b[0m\u001b[1;33m,\u001b[0m \u001b[0mresp\u001b[0m\u001b[1;33m)\u001b[0m\u001b[1;33m\u001b[0m\u001b[0m\n\u001b[1;32m    228\u001b[0m                 \u001b[1;32melse\u001b[0m\u001b[1;33m:\u001b[0m\u001b[1;33m\u001b[0m\u001b[0m\n\u001b[0;32m--> 229\u001b[0;31m                     \u001b[1;32mraise\u001b[0m \u001b[0mTweepError\u001b[0m\u001b[1;33m(\u001b[0m\u001b[0merror_msg\u001b[0m\u001b[1;33m,\u001b[0m \u001b[0mresp\u001b[0m\u001b[1;33m,\u001b[0m \u001b[0mapi_code\u001b[0m\u001b[1;33m=\u001b[0m\u001b[0mapi_error_code\u001b[0m\u001b[1;33m)\u001b[0m\u001b[1;33m\u001b[0m\u001b[0m\n\u001b[0m\u001b[1;32m    230\u001b[0m \u001b[1;33m\u001b[0m\u001b[0m\n\u001b[1;32m    231\u001b[0m             \u001b[1;31m# Parse the response payload\u001b[0m\u001b[1;33m\u001b[0m\u001b[1;33m\u001b[0m\u001b[0m\n",
      "\u001b[0;31mTweepError\u001b[0m: Twitter error response: status code = 429"
     ]
    }
   ],
   "source": [
    "tweet_list = []\n",
    "for tweet in tweepy.Cursor(api.search,q='I predict that').items():\n",
    "    tweet_list.append(tweet.text)\n",
    "    if len(tweet_list) % 100 is 0:\n",
    "        print(len(tweet_list), end=\" \")"
   ]
  },
  {
   "cell_type": "code",
   "execution_count": 106,
   "metadata": {
    "collapsed": true
   },
   "outputs": [],
   "source": [
    "tweet_list_backup = tweet_list"
   ]
  },
  {
   "cell_type": "code",
   "execution_count": 107,
   "metadata": {
    "collapsed": false
   },
   "outputs": [],
   "source": [
    "cleaned_tweets = []\n",
    "for tweet in tweet_list:\n",
    "    if tweet.find(\"RT @\") is -1 and tweet.find(\"I predict that\") is not -1:\n",
    "        loc = tweet.find(\"I predict that\")\n",
    "        loc = loc + 15\n",
    "        cleaned_tweets.append(tweet[loc:])"
   ]
  },
  {
   "cell_type": "code",
   "execution_count": 108,
   "metadata": {
    "collapsed": false
   },
   "outputs": [],
   "source": [
    "tweet_str = \"\"\n",
    "for tweet in cleaned_tweets:\n",
    "    tweet_text = ' '.join(word for word in tweet.split() if word[0]!='#' and word[0]!='@' and word[0:4]!='http')\n",
    "    tweet_str = tweet_str + tweet_text + os.linesep"
   ]
  },
  {
   "cell_type": "code",
   "execution_count": 109,
   "metadata": {
    "collapsed": false
   },
   "outputs": [
    {
     "data": {
      "text/plain": [
       "'he gets shot before the end of the week\\r\\nCruz will finish 5th in South Carolina.\\r\\nthey will easily lose again. And they will fall with a big squeaky sound now\\r\\nJun will survive due to stage 2 cancer, not yet stage 4.\\r\\nTrump will finish 3rd in South Carolina.\\r\\nvery soon Podesta will be bitch slapped by the cruel, uncaring hand of fate.\\r\\nmost of the \"other\" requests were made up of: \"#Alexa, what is the meaning of life?\"\\r\\nthis is all Olivia\\'s father and they\\'re making everyone think it\\'s Cyrus\\r\\nwhen the zombie apocalypse happens the cause will be a 6 year old with a snotty nose!!!!\\r\\nsoon a white woman who decides to marry a white man, will be called racist. Blacks\\' goal is a brown race.\\r\\nyou may go down in history as the best president America has ever had!😆😆😆 happy for my grandson.😊\\r\\nultra max deal the Celtics will be forced to give Thomas is going to be ultra awful by year 3 or 4.\\r\\nyou will slay this exam!!!!\\r\\nthis is going to lead to war with Mother Russia... I don\\'t even like upsetting Russians on Brighton Beach...\\r\\nfigure will reach $2Billion by year\\'s end\\r\\njeroboam will recover lost territories of his.\\r\\nRubio will finish 4th in South Carolina.\\r\\nif the Dems continue with hate and destruction, their will no longer be a Dem party. They are leaving by millions\\r\\nPost writers who\\'ve been ignoring them all season will write columns b4 the playoffs.\\r\\nthis will be me in the future 😂😂😂\\r\\n\\'s Twitter following will eventually surpass that of Tim Horton\\'s.\\r\\nCarson will finish 3rd in South Carolina.\\r\\nJeffrey Lord will be able to fit his entire body inside of Trumps rectum given enough time.\\r\\ns the interpretation they\\'d use)\\r\\n(unfortunately) there will be a lot of controversy surrounding today\\'s segment..\\r\\nbefore the end of trumps term a nuclear bomb will be dropped somewhere in the world.\\r\\nvertical challenges are not far off.\\r\\nthe Avengers Training Initiative may end up becoming permanent as well\\r\\nCruz will finish 4th in South Carolina.\\r\\nnext two choices for NatSec advisor will be Joe Arpaio and Dr. Strangelove.\\r\\nCruz will finish 2nd in South Carolina.\\r\\nTime magazine will go from being a great magazine to being a terrible one.\\r\\nyou will win this week. You can thank me in the morning,with an autographed anything!!!!!\\r\\nis gonna be on ITunes USA in 2 hours.\\r\\nfor legitimate reasons, lawful reasons, there will be some Democrats going to jail.\\r\\nCruz will finish 1st in South Carolina.\\r\\n\"Joaquin\" is a potential love interest for Kevin on\\r\\nwill be the next to fall, like several years ago. The People are SICK of the elites!\\r\\nwith in a year both Trump &amp; the entire GOP will be a thing of the past. They\\'ll destroy each other.\\r\\nwill drop the US title at Fastlane and then cost the Universal title\\r\\nthis will not help NASCAR\\'s ratings.\\r\\nif Trump isn\\'t impeached before he has a chance to do it, he will try to get rid of the CIA and other intelligence agencies.\\r\\nit does count. Unfortunately for you, that almost certainly means that it doesn\\'t. 😄😅\\r\\nBush will finish 5th in South Carolina.\\r\\nyou will have a long career! YOU Deserve it!Love ya baby!\\r\\nthis upcoming NHL Trade Deadline will be a very quiet one, due to the expansion draft.\\r\\nit’ll be exactly the same ban, presented in a more subtly insidious way, with even worse ramificatio…\\r\\nCarson will finish 2nd in South Carolina.\\r\\nin the future we will need some kind of new term or phrase to describe Trump pressers so we can ID them quickly\\r\\nwill have a mental breakdown within the next year. There\\'s no way he makes it four years as POTUS!\\r\\nin a decade the CIO/CISO role will no longer exist and that utility computing will have moved infosec to a new model\\r\\nBush will finish 2nd in South Carolina.\\r\\nin a landmark decision a major theme park company will lose the trademarks on nearly all of their characters!\\r\\nyou\\'d like gladio the most\\r\\nMartin Tyler will suddenly appear on BT commentary and explode in pure delight that there is 2x Pogba\\'s playing\\r\\nthe Celtics and Spurs will make finals and has the Cavs and Warriors\\r\\nin one month Mr will be an enemy of Mr Putin\" former PM of Russia Mikhail Kasyanov\\r\\neven the worst-behaved kid in class will be more reasonable than Trump just was.\\r\\nBush will finish 6th in South Carolina.\\r\\nSabres will beat Avalanche. Play at:\\r\\nTrump will ban BBC from future press conferences.\\r\\nwill say one is real and one is fake...\\r\\non his tombstone it will say \"But...EMAILS!\"\\r\\nwill happen sometime this summer.\\r\\nthis is not true.\\r\\nhe will just ending up ranting his way to impeachment.\\r\\nKasich will finish 4th in South Carolina.\\r\\nSkystar will be of the sassy and/or elegant type of character.\\r\\nSkystar— ...\\r\\nyou\\'ll be on Twitter and people will heckle you\\r\\ncertain sections of the fan base will be readying their crucibles to prepare for gallons of p…\\r\\nKasich will finish 6th in South Carolina.\\r\\nIslanders will beat Rangers. Play\\r\\nJets will beat Penguins. Play at:\\r\\nwill be out of breath and need medical attention 8 shots into this challenge\\r\\nno girl under 200lbs will ever cosplay as Aloy at comicon or similar events.\\r\\nmy next tweet will be grossly misunderstood and will generate an angry, if misguided, response.\\r\\ns what they\\'ll do.\\r\\nBush will finish 3rd in South Carolina.\\r\\ntest is a Solid A\\r\\nwe shall see several political cartoons that depict Trump tweeting\\r\\nI will be asleep by the 2nd period. Too bold?\\r\\nBannon succumbs…\\r\\nI will graduate when I\\'m around 35 years old\\r\\nthe this attention from is gonna boost this girls insta model career &amp; she\\'ll be selling tummy flat teas soon\\r\\nCarson will finish 1st in South Carolina.\\r\\nmarriage would last as long as the video. 🙄\\r\\nover the next few days, I will have a serious case of spring fever... and I\\'m sure that I won\\'t be...\\r\\nthe training required to use the \"new\" technology will become mandatory.\\r\\nIf GOP &amp; DNC are successful then it\\'s all over for the GOP our constitution will be destroyed!\\r\\nthe evolution of animals will speed up! Based on monkeys observing democrats, they will soon say loooooosers\\r\\npeople will soon see our countries 🇨🇦🇺🇸want to live free &amp; safe. Rules new an old are safest way to save countries. Just obey\\r\\nwithin a year BA will charge passengers to talk about the weat…\\r\\nKasich will finish 2nd in South Carolina.\\r\\nI\\'ll be able to afford it in approximately 8 million years.\\r\\nThis season will be the worst for many seasons with no top four finish, no FA cup &amp; no Sanchez resigning.\\r\\nRubio will finish 6th in South Carolina.\\r\\noutside the Beltway no one will be affected. And I don\\'t even like Mexican food. Plus, better for…\\r\\nScindia would be PM one day, Karthi Chidambaram would be a key aide &amp; the 1st family wd be ousted. H…\\r\\nwill generate memes in 3 ... 2 ... 1\\r\\nCarson will finish 4th in South Carolina.\\r\\nI will...\\r\\nit will be extremely hollow\\r\\nKasich will finish 1st in South Carolina.\\r\\nUkrainian lass will receive an astronomical number of marriage proposals from this.\\r\\nwill accomplish NOTHING!!! Just like all the other liberal-led, anti-Trump has…\\r\\n\\r\\nlady will face \"dogs\" abuse outside the London bubble\\r\\nCruz will finish 4th in South Carolina.\\r\\ntoday will be remembered until tomorrow!\\r\\nRubio will finish 2nd in South Carolina.\\r\\nshe will have a zoo by this time next year 🐆🐎🦄🐊\\r\\nKasich will finish 3rd in South Carolina.\\r\\nHS obsession with super white teeth will one day lead to mouth LEDs that create a literally glowing smile.\\r\\nobama\\'s days are numbered...\\r\\nCruz will finish 1st in South Carolina.\\r\\nshould pass, it will serve to stoke and feed the kind of hate and fear it\\'s proponents claim it\\'s designed to address.\\r\\nthese next couple of months CNN will be gaining in ratings points.\\r\\nTrump will finish 3rd in South Carolina.\\r\\ntoday will be remembered until tomorrow!\\r\\nBush will finish 5th in South Carolina.\\r\\nanyone who skips school tomorrow under the guise of \"protesting\" will probably be marked truant. Pretty funny.\\r\\nCNN will not have much better ratings than MSNBC by the end of 2017.\\r\\nRubio will finish 1st in South Carolina.\\r\\nevery time\\r\\nour comeback will happen after our concert, which is on March, oppa.\\r\\nSharks will not score a PPG vs. Panthers. Play at:\\r\\nCarson will finish 2nd in South Carolina.\\r\\nSnapchat will have a live\\r\\nhe keeps eating Lobster for Breakfast and has his pick of women on an hourly basis. Poor Tiger Woods\\r\\nthe new Nokia 3310 will use MediaTek\\'s Series 30+ platform instead of their old radio stack.\\r\\nTrump will finish 5th in South Carolina.\\r\\nwill be his next tattoo\\r\\njoy will increase exponentially in our buildings tomorrow. Students watch out!\\r\\nthis next Things That Annoy Me won\\'t be that long.\\r\\nill be wrong again and again. I wont stop questioning\\r\\nKady will make quite the entrance on her return. She\\'s definitely been missed.😄🔮🦊👑🍸✨\\r\\nDucks will beat Bruins. Play at:\\r\\nDucks will beat Kings. Play at:\\r\\nDucks will beat Panthers. Play at:\\r\\nI\\'ll get an auto dm from you if I follow you back.\\r\\nthis little lady is a bad guy. Just a feeling.\\r\\nCarson will finish 6th in South Carolina.\\r\\nin the not too distant future, the Unpatriots and their establishment will get and object lesson in the reason for the 2A.\\r\\nworking out wonderfully for them.\\r\\nRubio will finish 4th in South Carolina.\\r\\nin the next 3 months a scandal bigger than Watergate involving Obama\\'s misuse of the NSA will dwarf all talk of Impeachment!!\\r\\nthis site will have a negative effect on my pocketbook\\r\\nwithin the next four years you\\'ll be on the NBA shortlist. We\\'ll all be saying we knew you when.\\r\\nKingdom Hearts will be at E3 this year..... at the Xbox showcase. The full collection of games plus Kingdom Hearts III.\\r\\nSabres will beat Avalanche. Play at:\\r\\nPenguins will beat Jets. Play at:\\r\\nRangers will beat Islanders. Play at:\\r\\nwon\\'t be the last time Ivanka sits in the President\\'s chair 😀\\r\\nCarson will finish 3rd in South Carolina.\\r\\nprotesters will outnumber his FLA rally attendance numbers.\\r\\nTrump will be impeached\\r\\nthe IRS will be ordered to release the tax returns.\\r\\nMcCain won\\'t be re-elected.\\r\\nif Democrats think losing in 2016 was bad, they will lose much worse next time.\\r\\nRubio will finish 3rd in South Carolina.\\r\\nNovember 6, 2018 is gonna feel a while lot like November 7, 2006, y\\'all.\\r\\nmen in Oklahoma will be getting less sex if that bill is passed!\\r\\nthe are going to score a PPG vs. the tonight. Play at:\\r\\nArsenal were gonna get thrashed tonight &amp; it happens😭😭#WengerOut 😤\\r\\nmillion reasons is going to get nominated for song of the year but not win\\r\\nit\\'ll be released during the summer, most likely either before or shortly after this year\\'s E3.\\r\\n\\'Karl\\' (Rodrigo Santoro) will wear less clothes...\\r\\nTrump will be forced to cancel when his people find out how many protesters plan to attend.\\r\\nBush will finish 4th in South Carolina.\\r\\nby the end I will be a degenerate gambler.\\r\\nthe tv show \"Designated Survivor\" will have the largest season premier of any other show. It\\'s a good show.\\r\\nBlues will beat Red Wings. Play\\r\\nthe NSA not even trusting the president with intel is bad bad bad\\r\\nantisemitism on American campuses is about to explode. They will blame Trump for it too because \"Trump is a fascist\".\\r\\nEFF leader will say something about pirates 6-0 humiliation by s undowns?#malema\\r\\nyou’ll LOVE this app. Play the Future now!\\r\\nthis ends up being bigger than Watergate!\\r\\nBush will finish 3rd in South Carolina.\\r\\nyou’ll LOVE this app. Play the Future now!\\r\\nhot sauces will become twice as hot as they are today by the year 2033 -- and you will LIKE it!\\r\\nhas a different outcome than just being arrested by DC police.\\r\\nSharks will score a PPG vs. Panthers. Play at:\\r\\nTrump will finish 6th in South Carolina.\\r\\nyou will soon be experiencing a shock to YOUR system when you get booted. It\\'s coming.\\r\\nmajority of ppl will do the same this yr\\r\\nPaul Manafort will be the next shoe to drop here. This from a \"Slate\" article taken from an April...\\r\\nLet\\'s Play culture will die out with all this Pewdiepie business\\r\\nCruz will finish 5th in South Carolina.\\r\\nin the future people will look back on this time period and fail to understand why our culture was obsessed with\\r\\nIran will resume their nuclear program, Jordan will have to decide if they want to survive, extremists happy.\\r\\nKasich will finish 5th in South Carolina.\\r\\nby the year 2020, the Japanese will run out of things to go to 異世界 with/as\\r\\non Friday they will have all the questions, and tell you it isn\\'t fair if you don\\'t answer them!\\r\\nnumber will be as high as 70%\\r\\nthe simple addition of a cool air intake on my car will drastically improve it.\\r\\nyou will lie 37.5 times today.\\r\\nCruz will finish 2nd in South Carolina.\\r\\nthis kind of conversation is going dominate our timelines for the next few years (btwn all the lovin…\\r\\nyou will fail. Try to prove me wrong! Put down your fucking phone and do your job!\\r\\nBlues will beat Red Wings. Play at:\\r\\nthis issue will continue. Some schools depend on revenue at the gate and from concessions...\"\\r\\nthe most popular song used for this touching memorial will be Dead or Alive\\'s \"You spin me round\"\\r\\nTrump will finish 1st in South Carolina.\\r\\nthis will be the most delicio-- AHH!\\r\\nit will blow up, as blogging has never been easier!\\r\\nit will be the summer movie that unites us all.\\r\\nTrump will finish 5th in South Carolina.\\r\\nit will be those so called failing news papers that are going to bring you down\\r\\nAmericans will develop Stockholm Syndrome with President Trump from the onslaught of leaks and media inquiries.\\r\\nit\\'s already been almost 3 decades, and that you\\'re almost right, except for everything you\\'ve said...\\r\\nRubio will finish 1st in South Carolina.\\r\\nAshley Barnes\\' elbows will be close to becoming a dangerous nuclear weapon.\\r\\nTrump will finish 2nd in South Carolina.\\r\\nNigel will be back as leader soon... 🍺🍺🍺\\r\\nhe\\'ll be loaned out to the Celebrity Big Brother house during the next transfer window\\r\\nBush will finish 1st in South Carolina.\\r\\ntk is gonna win is what I would do if i smoked that\\r\\nit will not be so.\\r\\nCarson will finish 3rd in South Carolina.\\r\\n\"It Tastes Like Chicken\" will be this generation\\'s \"Where\\'s The Beef?\" Must. Visit. Wendy\\'s.\\r\\nKasich will finish 6th in South Carolina.\\r\\nface has had soo many filler injections that the heat &amp; head banging trials…\\r\\nRubio will finish 5th in South Carolina.\\r\\nTrump will finish 6th in South Carolina.\\r\\nwhen he kicks her to the curb, she turns on him like a snake. Can\\'t wait to see that bloodbath.\\r\\nNorth Sydney residents will continue the fight. Jilly seems to have been having a bad day. Poor Jilly!\\r\\nor are going to win next week\\r\\nby the time I awake Melania will have posted a selfie behind the desk in the Oval.\\r\\nthere will be a full scale nuclear world war before StarWars\\' new trilogy ends. Happy valentine.\\r\\nCarson will finish 6th in South Carolina.\\r\\n+ will see each again, take it to game 7 + Cavs will win. Prove me wrong and revisit this tweet.\\r\\nDecember 8 will be hard for many in the future.\\r\\nCarson will finish 4th in South Carolina.\\r\\nwe will need it again, most likely tomorrow because everyday brings something new and frustrating!\\r\\nthere will be a great social media crash within the next 5 years as people over 40, followed by some kids burn out on it all.\\r\\nas conflict/turmoil escalates, the desire for unification will outweigh the appeal of partisan retribution.\\r\\nthe Trump admin will be the shortest lived admin in U.S history. Unless a significant event occurs.\\r\\nPutin paid for Trump\\'s campaign. Hence all the people working on his campaign had strong connections w Putin.\\r\\nwe\\'ll get a 6 AM tweet from our president: a GIF of jingling keys\\r\\nin one of ur next vids u will ask for this same request and he will be all pissed off and say no\\r\\nBush will finish 4th in South Carolina.\\r\\nin 2017, there will be a famous person that\\'ll get shot.\\r\\nnext year you\\'ll have a valentine Me: haha okay thanks dad\\r\\nTrump will hold a televised address to the nation on which he will go bonkers like Bogart in The Caine Mutiny.\\r\\nwill be the face of either L\\'Oréal hair or Pantene one day 🌝🌚\\r\\nDucks will beat Wild. Play at:\\r\\nwithin the next 48 hrs Trump is going to decide that he doesn\\'t like being Pres anymore and tries to step down. LOCK HIM UP!\\r\\nwill rise from the grave tomorrow to sing Love Me I\\'m A Liberal to\\r\\nHerrmann\\'s giving heart pays off in the end and the guys have to swallow their pride.\\r\\nRep will be out of a job soon for bringing up such a thing.\\r\\nthe rats will start jumping from the ship, very soon. Deals are going to be made. +\\r\\nwill happen with a Ryan presidency at least initially\\r\\nKasich will finish 3rd in South Carolina.\\r\\nBeyoncé\\'s 7th solo album will have a song featuring Destiny\\'s Child, and the album will have a lot to say on memory.\\r\\nmany many MANY people are going to be watching this season!\\r\\nin one week the TRUE women\\'s champ takes back her title. .\\r\\nshe\\'s the next card to fall.\\r\\nTrump will finish 1st in South Carolina.\\r\\nReagan will break it off with Nick realizing Jess\\' meant to be deeper connection with him.\\r\\nthe White House will be dumping about 10,000 Somalians into Medina. Good luck with that.\\r\\nby 2020 ordering pizza for Valentine\\'s Day will be just as important as lighting the menorah for Hanukkah.\\r\\nis gonna be selling out MSG !\\r\\nBush will finish 2nd in South Carolina.\\r\\nin your next video ... You\\'ll upload it to youtube! I\\'m cool, I know.💅\\r\\nthe Trump administration will be the most corrupt administration we\\'ve seen since Richard Nixon!\\r\\nyou\\'re gonna come speak at UNO\\'s graduation this semester\\r\\nFlynn will be the first to flip on the orange mob boss. He has a temper, and his son Jr. has an even worse temper\\r\\nTrump will finish 4th in South Carolina.\\r\\nthey\\'ll win 4-3 with chimera, Cizikas, Strome, and Ladd.\\r\\nbefore there is a full on civil war, there will be assassinations of lib media types. They will pay price.\\r\\nafter this motion, there\\'ll be a bill proposed which criminalizes religious crticism.\\r\\ncarol 2015 will win best picture this year\\r\\ntrend continues for Woods v Westside, too.\\r\\nwill launch a competitor in the next 12 months.\\r\\nTrump will finish 2nd in South Carolina.\\r\\n\\r\\none of the mortally feared sounds of the future will be the \"screams\" of a drone swarm.#nightmarefuel\\r\\nthe Internet will be fine.\\r\\nChaffetz will be GONE in 2018! He sure has accomplished nothing!\\r\\nthe won\"t score 4+ goals vs. the tonight. Play at:\\r\\nKasich will finish 2nd in South Carolina.\\r\\nPrimal Groudon or Primal Kyogre will apear in the next Area as Stage 600. GS has a pattern.\\r\\nthey will be begging for them when ready for Pence. Should be getting ready\\r\\nlive action Oku will cure depression.\\r\\nwill run for POTUS in 2028\\r\\nBush will finish 1st in South Carolina.\\r\\nEmma will make the match end in a DQ finish. It\\'s stupid... But cool.\\r\\nWild will beat Ducks. Play at:\\r\\nJesus will be back on Easter Monday\\r\\nMgk is going to sing bad things to me lol\\r\\nwe\\'re going to go Las Vegas\\r\\nBush will finish 3rd in South Carolina.\\r\\nwill be hated by the Americans and will one cadence or less\\r\\nat least one member of the Trump Admin will at some point take a flying leap off Trump Tower.\\r\\ngoing up a few more tonight\\r\\nShaq will go to 40-50k and MJ will be in Larry bird range with 60-70k. Blake will go to 100k buy now\\r\\nis going to break that PB soon. He\\'s getting better and better at Dram World\\r\\nCruz will finish 6th in South Carolina.\\r\\ntrump administration will go down in flames. Matter of time.\\r\\nin a matter of years, the European nations will welcome Putin\\'s oversight.\\r\\nin about 2 wks I won\\'t be able to squeeze into these lecture hall seats anymore &amp; I\\'m not sure what I\\'m gonna do abt it.\\r\\ns what Danny does if C\\'s fail to make any trades/ get FA\\r\\nRubio will finish 1st in South Carolina.\\r\\nthe EU will collapse in its current recognisable form within the lifetime of most of the people in my generation.\\r\\nthe White House press briefing is going to be at the very least interesting and at worst unhinged today?\\r\\nKim Jong-Nam will be reincarnated as a hedgehog.\\r\\nI will be savagely smacked down. But that\\'s the only way to learn sometimes.\\r\\nCosmo Go will become a reality. has predicted the future!\\r\\na boondoggle wrapped inside a conspiracy, will be revealed by on ... April 1st.\\r\\n\"but her emails\" will become an idiom meaning, \"While you were worried about nonsense, this real problem started.\"\\r\\nthey will pick tangerine Mussolini to pieces. One aide, advisor, appointment, nominee at a time.\\r\\nin America, state-level protections passed post-Kelo will be rolled back.\\r\\nin the next election...\\r\\nBush will finish 5th in South Carolina.\\r\\n\"comet\" will be coming around to many more. Gotta love karma!\\r\\nVue will unseat React. It\\'s been a solid 12 months since we had to relearn something so it\\'…\\r\\nthere will be a sea-change within the SSvc that trends towards jackbooted thugs&amp;muscle than Ssvc of past.\\r\\nby the end of the month will be out, impeachment awaits. US is in serious trouble with this thing in power\\r\\nthere will be a sea-change within the SSvc that trends towards jackboote…\\r\\nby June we will have a new POTUS\\r\\nCarson will finish 6th in South Carolina.\\r\\nPaul Ryan will be president yet.\\r\\npeople will actually get more value out of algorithmic Instagram feeds that surface posts they care about more.\\r\\neven increased poverty won\\'t deter them.\\r\\nTrump will finish 5th in South Carolina.\\r\\nthey will finish the season with 15-16 Losses this season.\\r\\nsoon all of the world\\'s languages will not have male and female versions bc when learning different languages that is a bitch\\r\\nBush will finish 4th in South Carolina.\\r\\nBrady⤵️, Chaffetz, Pence, McConnell and all the rest who are...\\r\\nwith an 11 to 15 months Trump will be impeached\\r\\nKasich will finish 5th in South Carolina.\\r\\nSpicer will spontaneously implode around May-June time. Wish I could be more specific...\\r\\nthe Trump administration will float David Patraeus\\' name every time they have a natsec vacancy just to watch the 😱😱😱\\r\\nin 48 hours he says \"they\\'re lucky I don\\'t nuke them.\"\\r\\nMark Pence will become our 45th by proxy by 2018. Trump\\'s ego is so fragile, he wants a Friend in Putin.\\r\\nyou will be a one-term president, if you don\\'t get impeached before then. You\\'re administration is sketchy\\r\\nCruz will finish 3rd in South Carolina.\\r\\nwill be the next one fired. She\\'s falling apart.\\r\\nthe Vivo will be retired,maybe a year or two from now.\\r\\nCarson will finish 5th in South Carolina.\\r\\nKasich will finish 3rd in South Carolina.\\r\\nCarson will finish 2nd in South Carolina.\\r\\nthis ignites a raging inferno within Trump to seek revenge.\\r\\nfor you, true love is just around the corner. Look for someone with a smear of orange dust on their keyboard.\\r\\nKasich will finish 1st in South Carolina.\\r\\nwithin one year impeachment proceedings. In two a new president. Just wait, It has started.👍\\r\\nBrady⤵️, Chaffetz, Pence, McConnell and all the rest who are covering for Trump will go down with hi…\\r\\nKasich will finish 4th in South Carolina.\\r\\na hurricane will hit california within the next 20 years.\\r\\nbutchering both the English language &amp; the concept of objective reality won\\'t reduce anti-trans violence.\\r\\nsometime soon everything is going to overwhelmingly come back and crush them all\\r\\nBush will finish 6th in South Carolina.\\r\\nMazet will always have bad luck following her. She won\\'t escape this\\r\\nwill resign after the media shows his relationship with Putin is through Flynn and Manafort.\\r\\nin the future, scientists will learn how to convert stupidity into clean fuel - Scott Adams. Happy Tuesday!\\r\\nthe team will sign Mike Napoli coincidentally today to fill that void.\\r\\nRubio will finish 2nd in South Carolina.\\r\\nthis will be the most delicio-- AHH!\\r\\nafter tomorrow the number of Viagra ads on my television will decrease significantly.\\r\\nBannon will not resign. He is that guy that employers have to send half a security team or more to escort out.\\r\\nDonnie is going to pick David Petraeus... It would be totally in keeping with him hiring unqualified people.\\r\\nRubio will finish 4th in South Carolina.\\r\\nanother Donald bootlicker will exit: Sean Spicer is next.\\r\\nRick Nash will not score a goal vs. CBJ. Play at:\\r\\nif apple don\\'t change its ways they while shrink 40 % over 4 years\\r\\nis going to retain the title tonight\\r\\nwill pull a Melania and recycle this on Thursday\\r\\nif Trump gets rid of Flynn, he\\'ll be replaced by someone even worse.\\r\\nwhichever candidate includes a sight pun in their campaign slogan (e.g. \"A vision for America\") will win the 2020 election\\r\\nCarson will finish 6th in South Carolina.\\r\\nthe daleks will just have cameo appearance this year, series 6 style. Just being put in the middle of a montage in episode 1\\r\\nRangers will beat Blue Jackets. Play at:\\r\\nthey\\'ll fall in line.\\r\\nmany construction jobs will be open now that Trump is in office. You know why. (Hint: Mexico/Wall)\\r\\nwe will be at Defcon 3 at some point within the next 4 years thanks to POTUS.\\r\\nBush will finish 1st in South Carolina.\\r\\nfinds his spine sometime around the end of 2021.\\r\\nhe will do a weird Sonic advertisement where he eats a tater tot with a knife and fork\\r\\nyou and KANSAS BOWLING will get a Grammy for your video efforts!\\r\\nDanielle M goes home... there is just something about her.\\r\\nthis will be the tweet that will generate the loudest howls of derision from long-suffering Facebook…\\r\\nRubio will finish 6th in South Carolina.\\r\\nPendrick is NOT dead\\r\\nif returns tonight, she will somehow help Charlotte Flair retain her women\\'s title.\\r\\nJason Chaffetz doesn\\'t have the balls to perform his job, will let President Bannon walk all over him\\r\\nim going to be rich🤷🏼\\u200d♀️\\r\\nValentine\\'s Day sales will be down this year in the US only. Every1 else will rejoicing that they don\\'t have DT😂\\r\\nthe highlight of my day will be getting a free sub\\r\\nTrump will finish 4th in South Carolina.\\r\\nthe Macedonian will be knocked out inside the very 1st round\\r\\nthis is going to cost the dearly (Again)\\r\\nFlynn may get very ill, or found down by the river.\\r\\na lot more people are going 2 be angry abt this gp that pretends 2 be working for British citizens\\r\\nKoizumi and Takahashi are going to be the new faces of Nintendo, they are the next generation Iwata and Miyamoto.\\r\\nBush will finish 4th in South Carolina.\\r\\nfalling domino videos will be the new cat videos what?\\r\\none\\'s not gonna age well...\\r\\nCruz will finish 2nd in South Carolina.\\r\\nthere will never be a bust of Trudeau in the White House\\r\\nin order to salve the hurt butts of whiny snowflakes, Boy George will win.\\r\\nKasich will finish 2nd in South Carolina.\\r\\nCruz will finish 6th in South Carolina.\\r\\nthe price of oranges will skyrocket next year after 90% of the crop is lost due to snowstorms!\\r\\nall glass will be broken eventually\\r\\nthe country will be less safe in 12 months.\\r\\ntomorrow will be on her way to the jail! And all the ministers will be running towards\\r\\n\"Let Viewers Decide\" will be the title of a boffo 2018 romcom.\\r\\nall of the non-white immigrants will sign up to join the EU army, and then use it to exterminate ind…\\r\\nCruz will finish 4th in South Carolina.\\r\\nFlames will beat Coyotes. Play at:\\r\\nwhen we find a mineral rich \\'rock, will be catalyst to go en masse into space.\\r\\nMajin buu will maybe treat his opponent like a dog and call him come here little doggy lol\\r\\nKasich will finish 6th in South Carolina.\\r\\nMajin buu will win in ep 79 of Dragon ball Super cuz tht dude is almost as strong as SSJ3\\r\\npeople will be jailed in 2020 if they say the word \\'PRIVILEGE\\'; nobody has any idea what it means\\r\\nJapan will purchase and deploy THAAD. No alternative.\\r\\nit\\'s going to be 3\\r\\nBush will finish 6th in South Carolina.\\r\\nyou will talk bad about him tomorrow, praise him the next, then forget about it\\r\\nDT will have nothing positive to add to discussion will include Ivanka so she can blather about herself\\r\\nwill do something so stupid that they will all need to come back. That will be the…\\r\\nCarson will finish 3rd in South Carolina.\\r\\nthis will be the futur of\\r\\nMr Miller is going to have some problems. His threatening demeanour was appalling.\\r\\nKasich will finish 1st in South Carolina.\\r\\nKhalid will win a Grammy In the future 🤔\\r\\nRubio will finish 2nd in South Carolina.\\r\\nI have 30 minutes until the baby wakes up. I\\'m literally bored and not tired.\\r\\nDisaster area funds will be withheld by Trump because of sanctuary cities. Looking to punch Cali in the nose.\\r\\n\\' won\\'t show us today thay she and Raphael are getting back together\\r\\npeople will post a video of Tomi Lahren crying about the Grammys later tonight.\\r\\nTrump will finish 5th in South Carolina.\\r\\nCruz will finish 1st in South Carolina.\\r\\nwith that added 17 pounds of muscle is going to be an unstoppable force in this year\\r\\nI\\'m going to completely crash by..... say...... 1:30 today.\\r\\nTrump will finish 1st in South Carolina.\\r\\nCruz will finish 3rd in South Carolina.\\r\\nI will die this year\\r\\nRubio will finish 1st in South Carolina.\\r\\nthis will be the most delicio-- AHH!\\r\\nCarson will finish 5th in South Carolina.\\r\\nTrump will open his mouth and a big waterfall of actual baby shit will fall out\\r\\nyou’ll LOVE this app. Play the Future now!\\r\\nCarson will finish 1st in South Carolina.\\r\\nu\\'ll be dressing our First Lady soon!\\r\\nTrump will finish 6th in South Carolina.\\r\\nRuby is dropping her tray with an ;A; face &amp; that You is saluting 🔮🍭⚓️\\r\\nhorses ass is going to be locked up for treason sometime during 2017\\r\\n6 episodes of are trying to convince Ezequiel to fight. And in season finale the fight starts.\\r\\nan entire generation of Americans won\\'t understand this error thanks to\\r\\nCarson will finish 6th in South Carolina.\\r\\nin 5 year will perform win Record of the Year\\r\\n\"Out like Flynn\" will be a new saying soon.\\r\\nBatman V. Superman will win the Osca…\\r\\nmy geo exam will most definitely be a struggle. too much info.\\r\\nshe will lead a very lonely life, shunned even by cats.\\r\\nTwenty One Pilots will win the record of the year award.\\r\\nRubio will finish 6th in South Carolina.\\r\\nBray is not going to face Randy at Mania!#WWEChamber\\r\\nSacramento might be flooded if the Oroville Dam breaks - see topographical map:\\r\\nsong will be the most downloaded song on\\r\\nOculus Rift will destroy existing notions of human conversations. Unreal platform.\\r\\nto be eliminated by\\r\\nit\\'s only going to get more intense towards the end of 2017.\\r\\nthe Undertaker costs John Cena the title.\\r\\nthis Republican Congress will obstruct more of Trump\\'s policies than any Democrat Congress would.\\r\\nwill unfortunately retain and face are because nothing ever changes.\\r\\nTrump will finish 4th in South Carolina.\\r\\nI\\'m going to end in love with the criminology and judicial themes. TT\\r\\nwill have the most exciting, impressive performance tonight at the\\r\\nthe Halloween movie trailer is gonna come out in may 13th 2018 which is 5/13/18 I hope im right\\r\\nthe new Halloween movie wich was set to come out in October 19th 2018th\\r\\nDemi has such a successful future coming along. And im honestly so happy. She, out of anyone, deserves it considering\\r\\nBTS will be the death of me\\r\\nsong will be within 3-4 weeks. is a hit machine - that song was dope 🌊\\r\\nBush will finish 5th in South Carolina.\\r\\nin one year Trump will be \"politically\" neutralized by military/intelligence elements embedded in his govt.\\r\\nNikki is gonna win.\\r\\nmore and more of these voter fraud stories will start coming to light\\r\\nBeyoncé is going to reveal the gender of her twins\\r\\ntonight\\'s premiere of walking dead will be lame. Usually the first ep of a...\\r\\nnext year Thumbs will be nominated for a Grammy\\r\\nthere will be a massive at Rao Tularam Marg, before R&amp;R Hospital on right.\\r\\nthey are either going to be A. a Slayer fan or B. a Burzum fan\\r\\nKasich will finish 1st in South Carolina.\\r\\nCause i m a time traveler and it will happen\\r\\nonly and will be on her level\\r\\nDemi Lovato will get a best dressed nom for sure\\r\\nit will end just before the evening news😉📺🕚\\r\\nI won\\'t care.\\r\\nit will be a short, two-week Championship reign for sets the title free TONIGHT.\\r\\nAnderson Paak will be the next Cee Lo Green.\\r\\nwill name her twins something simply and organic....she will name them left and right. Lmao\\r\\nCaliie is pregnant with Brandon\\'s baby and Mariana said the Test was hers\\r\\nBray Wyatt wins the title I\\'d be okay with that but i\\'m cheering for AJ &amp; Baron\\r\\ntonight will come out of his cave, and finally perform his new song at the C\\'MON! 😌😌\\r\\nonce again, the pork plank spouts balderdash, piffle and scutbuttle!!!\\r\\nBush will finish 6th in South Carolina.\\r\\nwill...\\r\\nMAGA! will become popular among Hollywood population because of OUR BOYCOTTS..…\\r\\nMAGA! will become popular among Hollywood population because of OUR BOYCOTTS...…\\r\\nyou’ll LOVE this app. Play the Future now!\\r\\nin the future as VR experience/tech continues to develop VR Crimes will become a thing among the sjw community if not\\r\\nSharks will beat Devils. Play at:\\r\\none of those two things will happen tonight\\r\\nwhere I finish is crazy, but that just means that it’s further away\\r\\nBetsy will resign soon. She was really rattled by boos and being blocked at the school door in DC.…\\r\\ntsunami day is before or on 8 March2017 with regards to the prophetic parameters of my tsunami dreams. If not... Lol then 😚😗😙\\r\\nKasich will finish 4th in South Carolina.\\r\\nSprint and T-Mobile are done with in the next few years.\\r\\nyou\\'re gonna win grammy next year 🔮\\r\\nthis man will soon become a racist symbol, for like 1000 reasons.\\r\\nthere were protesters booing Video, an…\\r\\nthere will be a new All Time Low song dropped this week\\r\\nTrump will finish 5th in South Carolina.\\r\\nnew Apple phone (aka iPhone8) will be called iPhone Pro - to match MacBooks. Judging by the rumors it\\'ll cost as much\\r\\nHalsey is going to hit 4 million followers today because of the Grammys\\r\\nyou two will become fast friends😊👌❤❤\\r\\nthis is a hint my man will show up\\r\\ncake will be gone by the time the party comes 😂\\r\\n..I will probably be Mari\\'s updater again for the EC tonight. 😂😂\\r\\nRubio will finish 5th in South Carolina.\\r\\nGenova and Vallerga\\'s will be closing this year\\r\\nthis will be the most delicio-- AHH!\\r\\nthis country will get bombed again by the end of the year cause you destroyed the security of our nation\\r\\none \\'so-called wrapper\\' will have a hissy fit.\\r\\nDaft Punk WILL appear with The Weeknd tonight at the Grammy\\'s. Mark my words.\\r\\nKemen will dislike Jon.\\r\\nCarson will finish 5th in South Carolina.\\r\\nyou\\'ll hit it today or tomorrow\\r\\nPee-Wee Herman will portray him on SNL next week!\\r\\nPineda will some day be a Cub\\r\\nmanaged k8s will be the norm just as cloud providers have managed databases today.\\r\\nwill do a FaZe5 and then they won\\'t recruit until the very next year because they don\\'t believe people will stay in\\r\\nwhen Trudeau meets Trump tomorrow, his first words will be, \"This one\\'s for De Niro.\" And then he\\'ll punch Trump in the face.\\r\\nTrump will finish 1st in South Carolina.\\r\\nbreaks the camels back.\\r\\nevery time a rapper gets called out for having rap that describes violence against women they will call it bdsm lol\\r\\nwhen she\\'ll become a grandmother, will win lots of Granny Awards. 😜🤣\\r\\neither Goot or Furbz having da next baby lol\\r\\nJohnny &amp; Chrissie will win as they r the judges fav.. don\\'t get me wrong they r amazing but it\\'s obvious!!\\r\\nKasich will finish 5th in South Carolina.\\r\\nthere will be a steep drop of people watching the Grammys\\r\\nif they continue immigration they will have to start building on national park land! It\\'s...\\r\\n. WIN! Troy with 19\\r\\npolter-djinns will interrupt the show.\\r\\nBush will finish 2nd in South Carolina.\\r\\nTrump will eventually unite us, as we begin to face a common enemy. Trump himself.\"\\r\\nMorales from season 1 of the walking dead will be the man in the boots from the mid...\\r\\nsiyeon and yewon will have stage names..and sungyeon will prbably still be shannon obviously\\r\\none day, Alyvia Alyn Lind, will become a Major Motion Picture \\'Star\\' She is well on her way to \\'Stardom.\\'Precious!\\r\\ndata collection for purposes will be punishable by law\\r\\ndeep learning will change the way people interact with technology as radically as operating systems\"\\r\\nCarson will finish 3rd in South Carolina.\\r\\nMNUFC will either Win, Lose, or Draw tonight. And we\\'ll be there cheering for one of those!\\r\\nthere will be many more defections from the GOP. The new anagram for the Party Of Greed.\\r\\na year from now, Moore will still be effeminate looking and morbidly obese.\\r\\nby three years from now most of Amerikkka will be under some form of martial law. If you live in a...\\r\\nRubio will finish 2nd in South Carolina.\\r\\none of the Road Poneglyphs that was lost is actually in Elbaf, home of the Giants.\\r\\nYoutube will break in a minute.\\r\\nthe world will be taken over by robotic samurai.\\r\\nMadrid will dominate the next 5 la ligas and possibly win all 5 in a row:\\r\\nFinn Balor will return tonight.\\r\\nby the end of the month I\\'ll be wearing a wig, not because I think they\\'re cool but because I\\'m gonna be bald as fuck\\r\\n\"Out like Flynn\" will be a new saying soon.\\r\\nyou will replace Bill on the factor when he retires. My prediction will happen, mark my words\\r\\nCruz will finish 3rd in South Carolina.\\r\\nNo-one Will Die... This is very near me, so if I see gaggles of girls sighing at length, I\\'ll know…\\r\\njustin is gonna win 3 grammy\\'s and ariana one\\r\\nI\\'ll cry when is released\\r\\nRubio will finish 1st in South Carolina.\\r\\nToyota would have ever gotten a win this early! Great news for the championship.\\r\\nI\\'ll be sending you a padlet link ASAP. Thanks for turning my idea digital\\r\\nhuge change will occur in our time. It seems dark but events will awaken us on a global scale.\\r\\nCruz will finish 5th in South Carolina.\\r\\nRubio will finish 4th in South Carolina.\\r\\n\\r\\nBush will finish 3rd in South Carolina.\\r\\nOSVR will forever digital conversations. Staggering peripherals.\\r\\nTrump will finish 2nd in South Carolina.\\r\\nby June Hillary will be indicted by a grand jury...\\r\\nBush will finish 6th in South Carolina.\\r\\nWes is still alive.\\r\\nBush will finish 1st in South Carolina.\\r\\nKasich will finish 3rd in South Carolina.\\r\\nAgne will betray Marcus\\r\\nCarson will finish 2nd in South Carolina.\\r\\nMichael will rise from the dead bc it\\'s a telenovela and that happens all the time. right?!?\\r\\nthey WIN\\r\\nTrump will finish 6th in South Carolina.\\r\\ntomatoes will be $12 a pound soon.\\r\\nfirst official album is going to drop his birthday month April 2017 maybe even on his birthday 🤔\\r\\nno explanation exists that would satisfy\\r\\nthe Warriors are going to win lol\\r\\nthe Oscars will provide more entertainment as shitlord fodder than actual first order entertainment\\r\\nKasich will finish 6th in South Carolina.\\r\\nI\\'ll go to Walmart tomorrow\\r\\nthe whole thing will end in one giant mess, and that we will discover many are involved in treason.\\r\\nCarson will finish 3rd in South Carolina.\\r\\nyou were a great MC too!\\r\\nafter bts finishes promotions they are going to announce a world tour\\r\\nCarson will finish 4th in South Carolina.\\r\\nand will hook up this season 👀👀👀\\r\\nTrump will finish 3rd in South Carolina.\\r\\nKevin Durant or Russell Westbrook will win tonight. You can take that to the bank.\\r\\nKasich will finish 2nd in South Carolina.\\r\\nmachine learning is going to push art even further in \\'degenerative meaningless etc.\\' direction, aka even more individuality.\\r\\n90% of tomorrow will be spent sleeping after this shift tonight.\\r\\nyou are a gullible idiot IN AMERICA! Now let\\'s have a children\\'s card game\"\\r\\nRubio will finish 3rd in South Carolina.\\r\\nwill make the rogue federal bureaucrats former rogue federal bureaucrats.\\r\\nthis year the annual \\'Correspondents\\' Dinner\\' will be very....lively.\\r\\n2017 is going to be a banner year for your firm’s new business.\\r\\n2017 is going to be a banner year for your firm’s new business.\\r\\n2017 is going to be a banner year for your firm’s new business.\\r\\nRubio will finish 1st in South Carolina.\\r\\ndespite her ineptitudes she will still win.\\r\\nis going to develop a pretty decent livestream following. Especially the duels.\\r\\nthe upcoming Matt Reeves Batman film will be the best Batman he will ever make. That\\'s as good an expectation as I can have.\\r\\nMichigan will win the college softball World Series.\\r\\nVanessa will be my valentine and you\\'ll fall on a knife and Charlotte will be back in 7x19 🔮\\r\\nCruz will finish 5th in South Carolina.\\r\\nthe album will be released in April or May. Remember Nicki said that tour dates will b out b…\\r\\nyou will be a TOP star in the biz! Hopefully pairs U w/@JossLescaf on ASAP\\r\\nhappens, happens.\\r\\nBush will finish 2nd in South Carolina.\\r\\nZach Burdi will make the White Sox MLB Roster after Spring Training.\\r\\nBrady will play 3 more seasons at the most so they need to keep the roster as strong as possible\\r\\npeople will be amazed at my tales of talking to John scales.\\r\\nwill win the most tomorrow\\r\\nwill win the most tomorrow\\r\\nshe will be crying in 2 years\\r\\nRubio will finish 5th in South Carolina.\\r\\nthe upcoming MLP Movie will be a full-blown EPIC. 😀\\r\\nGDR kicks the crap out of Holm.\\r\\nby the time ICE raids end in California this year, the population of the state will be down 12 million....\\r\\nRubio will finish 4th in South Carolina.\\r\\nsoon is going to acquire a bad illness due to stress and overall hate to humanity.\\r\\nCharlie is going to drop something album related in the next few weeks...it\\'s been too long\\r\\ntonight\\'s gonna be lit\\r\\neven if that happens we\\'ll still be above you.\\r\\nApo gacha comes at the same time with the anime so WELP.\\r\\nLeon Draisaitl will score a point for Edmonton vs. my Play at:\\r\\nCapitals will beat Ducks. Play at:\\r\\nStars will not score a PPG vs. Hurricanes. Play at:\\r\\nDucks will beat Capitals. Play at:\\r\\nTrump will finish 4th in South Carolina.\\r\\nif Saints get another goal to make it safe (!?) this ground will empty as fans look for somewhere to defrost.\\r\\nthe heart eyes will.. cease to exist soon *cries*\\r\\nwe will win 4-0 now Pogba martial and mkhi with the goals\\r\\nPuckett has no idea what he\\'s talking about\\r\\nKasich will finish 3rd in South Carolina.\\r\\nthe environmentally unfriendly wall will STILL cost less than $150 BILLION ransom to Iran.\\r\\nwe won\\'t find any difficulties since the personalities we have are really similar. Bright and cheerful pills!\\r\\n\\r\\nCruz will finish 4th in South Carolina.\\r\\nCarson will finish 4th in South Carolina.\\r\\nwon\\'t last long.\\r\\nCruz will finish 6th in South Carolina.\\r\\nArsenal is going to have a very bad first half again because the players have poor form since a few games.\\r\\nDonald Trump will win an award for being the most stupid president of all time\\r\\nKasich will finish 1st in South Carolina.\\r\\nBlackhawks will beat Jets. Play at:\\r\\nRubio will finish 6th in South Carolina.\\r\\nthe \"conflict\" will be manufactured, and that will blow his mouth off again and out h…\\r\\nyou will bag no less than 3 awards if not more. The heavens are truly open above you 🏆🏆🏆\\r\\nRubio will finish 1st in South Carolina.\\r\\nRubio will finish 2nd in South Carolina.\\r\\ngovt will gradually grow, corruption will increase not reduce, the rat race will get tighter.\\r\\n.. tmr.... they will not release anything. I don\\'t think they\\'ll release anymore things til the comeback date.\\r\\nCruz will finish 3rd in South Carolina.\\r\\nkhalid will be the next best upcoming artist.\\r\\nthis guy will be out of office by June. I\\'m taking bets if any1 wants to make a friendly wager that…\\r\\nCarson will finish 6th in South Carolina.\\r\\nonce Netflix gets rights for sports casting it\\'s over for cable. Also maybe the end of ad-less streaming.\\r\\nonce Netflix gets rights for sports casting it\\'s over for cable. Also maybe the end of ad-less streaming.\\r\\nthe deficit will explode under this administration, leaving us in the wake!\\r\\nBush will finish 3rd in South Carolina.\\r\\nthis will be a typical pattern for the failing and unpopular Drumphff administration:. 1/\\r\\nKasich will finish 2nd in South Carolina.\\r\\nthe will bring Michael Floyd back with a 1 year prove it deal.\\r\\nDuncan Keith will score a goal vs. Jets. Play at:\\r\\nCarson will finish 3rd in South Carolina.\\r\\nwill not be making any predictions today.\\r\\nwill win at\\r\\nthings (protesters, BLM Aholes) will in the very near future generate a little heat. Kind of back al…\\r\\nwill officially lose his tiny mind after SNL tomorrow night. Bigly!\\r\\nBush will finish 1st in South Carolina.\\r\\nCruz will finish 1st in South Carolina.\\r\\nthis will be the most delicio-- AHH!\\r\\nI will love this team forever. Through good times and trying times, I ain\\'t going anywhere.\\r\\nwithin a year, most everyone will be a member of or 😊\\r\\nthis lady will be the first president of the United States of America\\r\\nme and Helen get into a serious spat and break up twice in the span of 6 months because I think cats are cuter than dogs\\r\\nCruz will finish 4th in South Carolina.\\r\\nIran could become a very large sheet of glass.\\r\\nyou WILL show up for immigrants until the next Democratic Pres., at which time you again won\\'t\\r\\nmy dad and I will spend a total of 5 minutes of time together in the next 3 days...\\r\\nI will spend the most amount of money on just parking in the city this semester 😑\\r\\nthe girl will be a prostitute within 3 years.\\r\\nRubio will finish 3rd in South Carolina.\\r\\nit needed done.\\r\\nGardasil will become the greatest medical scandal of all time.” — Former Merck scientist A...\\r\\nthis debacle will slowly be repaired and…\\r\\n2017 will have the return of thr Deez Nutz meme\\r\\nit will be a tornado of idiocracy.\\r\\nRubio will finish 4th in South Carolina.\\r\\nit will get like a 40 on Rotten Tomatoes\\r\\nWest Brom will win\\r\\nduck will eventually replace fuck as the go-to swear for the iPhone generation.\\r\\ntoday is going to be one hot ass mf day\\r\\nyou will do this.\\r\\nBush will finish 5th in South Carolina.\\r\\nWildlands is gonna crash and burn, and then Michel Ancel will save the company with Beyond Good &amp; Evil 2 and WiLD\\r\\neven fewer people will be returning their carts to the corral/store i…\\r\\nTrump\\'s mental disease is ultimately going to infect the entire population of north America.\\r\\nwith \"smart appliances\", we will be able to have more control remotely.\\r\\nCarson will finish 5th in South Carolina.\\r\\nSoros, Feinstein, McCain, and Albright will die of old age before December 31, 2017.\\r\\nSoros, Feinstein, McCain, and Albright will die of old age before December 31, 2017.\\r\\nSoros, Feinstein, McCain, and Albright will die of old age before December 31, 2017.\\r\\nSoros, Feinstein, McCain, and Albright will die of old age before December 31, 2017.\\r\\nyou guys have an amazingly written 5 star app review for the US App Store awaiting!\\r\\nthe more the Trmp administration cuts climate regulations, more companies will pitch in on their own in defiance.\\r\\nby the 9 o clock news Minister Fitzgerald will be gone, by 10pm Zappone, and by midnight the...\\r\\nthe black lives matter group will become a terrorist organization. Similar to a white supremacist group\\r\\nBlackhawks will beat Jets. Play at:\\r\\nin a month or two Priebus and Conway will convince Trump to quit tweeting.\\r\\nRubio will finish 5th in South Carolina.\\r\\ntomorrow you will post saying \"Happy Saturday\". Just a feeling.\\r\\nwill not be the case after tonight!!! 😬😏\\r\\n\"doxxing\" as a category will expand &amp; become as distasteful as sexism/racism is today.\\r\\nbeing a Trump offspring begins to feel less and less like a privilege...\\r\\nTrump will finish 2nd in South Carolina.\\r\\nyou have analytical &amp; calculative mind...\\r\\nMitch McConnell will rue the day he sent Sen Warren to fix him a sammich.\\r\\nis going to hit a \"dinger\" this weekend. Yeah I said it, believe it. Go Dawgs.....\\r\\nTrump will finish 4th in South Carolina.\\r\\nI get at least 2 technicals and then feel bad and try to apologize to everyone afterwards.\\r\\n'"
      ]
     },
     "execution_count": 109,
     "metadata": {},
     "output_type": "execute_result"
    }
   ],
   "source": [
    "tweet_str"
   ]
  },
  {
   "cell_type": "code",
   "execution_count": 110,
   "metadata": {
    "collapsed": false
   },
   "outputs": [
    {
     "name": "stdout",
     "output_type": "stream",
     "text": [
      "Requirement already satisfied: markovify in c:\\programdata\\anaconda3\\lib\\site-packages\n",
      "Requirement already satisfied: wordfilter in c:\\programdata\\anaconda3\\lib\\site-packages\n",
      "Requirement already satisfied: unidecode in c:\\programdata\\anaconda3\\lib\\site-packages (from markovify)\n"
     ]
    }
   ],
   "source": [
    "!pip install markovify wordfilter\n",
    "import random\n",
    "import os\n",
    "import twitter_login\n",
    "import tweepy\n",
    "import markovify\n",
    "\n",
    "# Tact function modified from function in cyberprefixer \n",
    "# (c) Molly White, 2013-2016, released MIT License\n",
    "# https://github.com/molly/CyberPrefixer/blob/master/offensive.py\n",
    "\n",
    "import offensive\n",
    "\n",
    "#deltext = deltext.replace(\".\", \" \")\n",
    "#deltext = deltext.encode('ascii', 'ignore').decode('ascii')\n",
    "# In[3]:\n",
    "\n",
    "m_model = markovify.NewlineText(tweet_str)"
   ]
  },
  {
   "cell_type": "code",
   "execution_count": 111,
   "metadata": {
    "collapsed": false
   },
   "outputs": [
    {
     "data": {
      "text/plain": [
       "['I predict that Iran could become a very lonely life, shunned even by cats.',\n",
       " 'I predict that Duncan Keith will score a PPG vs. the tonight. Play at:',\n",
       " 'I predict that tk is gonna win.',\n",
       " 'I predict that the world will be a tornado of idiocracy.',\n",
       " 'I predict that tonight will come out in October 19th 2018th',\n",
       " 'I predict that the White House will be broken eventually',\n",
       " \"I predict that with that but i'm cheering for one of those!\",\n",
       " 'I predict that it will get tighter.',\n",
       " 'I predict that Mark Pence will become a racist symbol, for like 1000 reasons.',\n",
       " \"I predict that Genova and Vallerga's will be his next tattoo\",\n",
       " 'I predict that Jeffrey Lord will be punishable by law',\n",
       " 'I predict that on Friday they will finish 3rd in South Carolina.',\n",
       " 'I predict that I will be a 6 year old with a 1 year prove it deal.',\n",
       " 'I predict that in a month or two from now.',\n",
       " 'I predict that or are going to drop his birthday 🤔',\n",
       " 'I predict that HS obsession with super white teeth will one cadence or less',\n",
       " 'I predict that Stars will not be so.',\n",
       " \"I predict that next year you'll have a very large sheet of glass.\",\n",
       " 'I predict that you will be getting ready',\n",
       " 'I predict that Morales from season 1 of the crop is lost due to snowstorms!',\n",
       " 'I predict that Khalid will win as they are today by the end of ad-less streaming.',\n",
       " 'I predict that Koizumi and Takahashi are going to get rid of the Giants.',\n",
       " 'I predict that going up a few games.',\n",
       " 'I predict that for you, that almost certainly means that it’s further away',\n",
       " 'I predict that this will be the next 12 months.',\n",
       " 'I predict that you and KANSAS BOWLING will get and object lesson in the future 🤔',\n",
       " 'I predict that Scindia would be a struggle. too much info.',\n",
       " 'I predict that I get at least 2 technicals and then cost the Universal title',\n",
       " 'I predict that Disaster area funds will be a degenerate gambler.',\n",
       " \"I predict that it's going to be a very lonely life, shunned even by cats.\",\n",
       " 'I predict that even the worst-behaved kid in class will be the most tomorrow',\n",
       " 'I predict that sometime soon everything is going to acquire a bad day. Poor Jilly!',\n",
       " 'I predict that Kevin Durant or Russell Westbrook will win lots of Granny Awards. 😜🤣',\n",
       " 'I predict that our comeback will happen with a big squeaky sound now',\n",
       " 'I predict that with in a minute.',\n",
       " 'I predict that by the year 2020, the Japanese will run for POTUS in 2028',\n",
       " 'I predict that the upcoming MLP Movie will be revealed by on ... April 1st.',\n",
       " 'I predict that BTS will be hated by the river.',\n",
       " 'I predict that this is a hint my man will soon say loooooosers',\n",
       " 'I predict that you two will become a very lonely life, shunned even by cats.',\n",
       " \"I predict that he'll be loaned out to the jail! And all the rest who are...\",\n",
       " 'I predict that Snapchat will have to swallow their pride.',\n",
       " 'I predict that this will be the next 12 months.',\n",
       " 'I predict that Demi has such a thing.',\n",
       " 'I predict that huge change will occur in our buildings tomorrow. Students watch out!',\n",
       " 'I predict that Kevin Durant or Russell Westbrook will win best picture this year',\n",
       " 'I predict that within a year, most everyone will be the case after tonight!!! 😬😏',\n",
       " \"I predict that we're going to win lol\",\n",
       " 'I predict that with in a minute.',\n",
       " 'I predict that this is a hint my man will soon say loooooosers']"
      ]
     },
     "execution_count": 111,
     "metadata": {},
     "output_type": "execute_result"
    }
   ],
   "source": [
    "tweet = None\n",
    "tweets = []\n",
    "for i in range(50):\n",
    "    title = m_model.make_short_sentence(70)\n",
    "    if title is not None:\n",
    "        tweets.append(\"I predict that \" + title)\n",
    "\n",
    "tweets"
   ]
  },
  {
   "cell_type": "code",
   "execution_count": 88,
   "metadata": {
    "collapsed": false
   },
   "outputs": [
    {
     "ename": "IndexError",
     "evalue": "list index out of range",
     "output_type": "error",
     "traceback": [
      "\u001b[0;31m---------------------------------------------------------------------------\u001b[0m",
      "\u001b[0;31mIndexError\u001b[0m                                Traceback (most recent call last)",
      "\u001b[0;32m<ipython-input-88-68f9821745fb>\u001b[0m in \u001b[0;36m<module>\u001b[0;34m()\u001b[0m\n\u001b[1;32m      4\u001b[0m \u001b[1;31m# In[5]:\u001b[0m\u001b[1;33m\u001b[0m\u001b[1;33m\u001b[0m\u001b[0m\n\u001b[1;32m      5\u001b[0m \u001b[1;33m\u001b[0m\u001b[0m\n\u001b[0;32m----> 6\u001b[0;31m \u001b[1;32mif\u001b[0m \u001b[0mtweets\u001b[0m\u001b[1;33m[\u001b[0m\u001b[0mrand_num\u001b[0m\u001b[1;33m]\u001b[0m \u001b[1;32mis\u001b[0m \u001b[1;32mnot\u001b[0m \u001b[1;32mNone\u001b[0m\u001b[1;33m:\u001b[0m\u001b[1;33m\u001b[0m\u001b[0m\n\u001b[0m\u001b[1;32m      7\u001b[0m     \u001b[0mprint\u001b[0m\u001b[1;33m(\u001b[0m\u001b[0mtweets\u001b[0m\u001b[1;33m[\u001b[0m\u001b[0mrand_num\u001b[0m\u001b[1;33m]\u001b[0m\u001b[1;33m)\u001b[0m\u001b[1;33m\u001b[0m\u001b[0m\n",
      "\u001b[0;31mIndexError\u001b[0m: list index out of range"
     ]
    }
   ],
   "source": [
    "tweets = sorted(tweets, key=len, reverse=True)\n",
    "rand_num = random.randrange(0,25)\n",
    "\n",
    "# In[5]:\n",
    "\n",
    "if tweets[rand_num] is not None:\n",
    "    print(tweets[rand_num])"
   ]
  },
  {
   "cell_type": "code",
   "execution_count": null,
   "metadata": {
    "collapsed": true
   },
   "outputs": [],
   "source": []
  }
 ],
 "metadata": {
  "kernelspec": {
   "display_name": "Python 3",
   "language": "python",
   "name": "python3"
  },
  "language_info": {
   "codemirror_mode": {
    "name": "ipython",
    "version": 3
   },
   "file_extension": ".py",
   "mimetype": "text/x-python",
   "name": "python",
   "nbconvert_exporter": "python",
   "pygments_lexer": "ipython3",
   "version": "3.6.0"
  }
 },
 "nbformat": 4,
 "nbformat_minor": 2
}
