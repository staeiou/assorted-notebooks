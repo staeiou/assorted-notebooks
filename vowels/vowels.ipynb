{
 "cells": [
  {
   "cell_type": "code",
   "execution_count": 74,
   "metadata": {},
   "outputs": [],
   "source": [
    "def remove_e(input_str):\n",
    "    \n",
    "    return_str = \"\"\n",
    "    \n",
    "    for character in input_str:\n",
    "        if character not in \"eEéÉ\":\n",
    "            return_str = return_str + character\n",
    "            \n",
    "    return return_str"
   ]
  },
  {
   "cell_type": "code",
   "execution_count": 75,
   "metadata": {},
   "outputs": [],
   "source": [
    "def remove_vowels(input_str):\n",
    "    return_str = \"\"\n",
    "    \n",
    "    for character in input_str:\n",
    "        if character not in \"aeiouyAEIOUY\":\n",
    "            return_str = return_str + character\n",
    "            \n",
    "    return return_str"
   ]
  },
  {
   "cell_type": "code",
   "execution_count": 76,
   "metadata": {},
   "outputs": [
    {
     "data": {
      "text/plain": [
       "'Hll, Wrld!'"
      ]
     },
     "execution_count": 76,
     "metadata": {},
     "output_type": "execute_result"
    }
   ],
   "source": [
    "remove_vowels(\"Hello, World!\")"
   ]
  },
  {
   "cell_type": "code",
   "execution_count": 77,
   "metadata": {},
   "outputs": [
    {
     "name": "stderr",
     "output_type": "stream",
     "text": [
      "--2017-10-03 21:47:02--  http://www.gutenberg.org/files/2600/2600-0.txt\n",
      "Resolving www.gutenberg.org (www.gutenberg.org)... 152.19.134.47, 2610:28:3090:3000:0:bad:cafe:47\n",
      "Connecting to www.gutenberg.org (www.gutenberg.org)|152.19.134.47|:80... connected.\n",
      "HTTP request sent, awaiting response... 200 OK\n",
      "Length: 3359550 (3.2M) [text/plain]\n",
      "Saving to: ‘2600-0.txt’\n",
      "\n",
      "     0K .......... .......... .......... .......... ..........  1%  786K 4s\n",
      "    50K .......... .......... .......... .......... ..........  3% 1.53M 3s\n",
      "   100K .......... .......... .......... .......... ..........  4% 26.3M 2s\n",
      "   150K .......... .......... .......... .......... ..........  6% 1.62M 2s\n",
      "   200K .......... .......... .......... .......... ..........  7% 21.3M 2s\n",
      "   250K .......... .......... .......... .......... ..........  9% 1.72M 2s\n",
      "   300K .......... .......... .......... .......... .......... 10% 25.9M 1s\n",
      "   350K .......... .......... .......... .......... .......... 12% 18.3M 1s\n",
      "   400K .......... .......... .......... .......... .......... 13% 24.5M 1s\n",
      "   450K .......... .......... .......... .......... .......... 15% 1.96M 1s\n",
      "   500K .......... .......... .......... .......... .......... 16% 16.8M 1s\n",
      "   550K .......... .......... .......... .......... .......... 18% 23.4M 1s\n",
      "   600K .......... .......... .......... .......... .......... 19% 22.5M 1s\n",
      "   650K .......... .......... .......... .......... .......... 21% 23.0M 1s\n",
      "   700K .......... .......... .......... .......... .......... 22% 27.9M 1s\n",
      "   750K .......... .......... .......... .......... .......... 24% 33.0M 1s\n",
      "   800K .......... .......... .......... .......... .......... 25% 2.52M 1s\n",
      "   850K .......... .......... .......... .......... .......... 27% 20.3M 1s\n",
      "   900K .......... .......... .......... .......... .......... 28% 2.06M 1s\n",
      "   950K .......... .......... .......... .......... .......... 30% 7.06M 1s\n",
      "  1000K .......... .......... .......... .......... .......... 32% 35.7M 1s\n",
      "  1050K .......... .......... .......... .......... .......... 33% 42.2M 1s\n",
      "  1100K .......... .......... .......... .......... .......... 35% 35.4M 0s\n",
      "  1150K .......... .......... .......... .......... .......... 36% 35.1M 0s\n",
      "  1200K .......... .......... .......... .......... .......... 38% 35.8M 0s\n",
      "  1250K .......... .......... .......... .......... .......... 39% 37.0M 0s\n",
      "  1300K .......... .......... .......... .......... .......... 41% 35.7M 0s\n",
      "  1350K .......... .......... .......... .......... .......... 42% 17.5M 0s\n",
      "  1400K .......... .......... .......... .......... .......... 44% 31.1M 0s\n",
      "  1450K .......... .......... .......... .......... .......... 45% 12.7M 0s\n",
      "  1500K .......... .......... .......... .......... .......... 47% 2.69M 0s\n",
      "  1550K .......... .......... .......... .......... .......... 48% 14.8M 0s\n",
      "  1600K .......... .......... .......... .......... .......... 50% 16.8M 0s\n",
      "  1650K .......... .......... .......... .......... .......... 51% 17.2M 0s\n",
      "  1700K .......... .......... .......... .......... .......... 53% 16.6M 0s\n",
      "  1750K .......... .......... .......... .......... .......... 54% 22.6M 0s\n",
      "  1800K .......... .......... .......... .......... .......... 56% 20.4M 0s\n",
      "  1850K .......... .......... .......... .......... .......... 57% 24.4M 0s\n",
      "  1900K .......... .......... .......... .......... .......... 59% 24.2M 0s\n",
      "  1950K .......... .......... .......... .......... .......... 60% 28.9M 0s\n",
      "  2000K .......... .......... .......... .......... .......... 62% 27.6M 0s\n",
      "  2050K .......... .......... .......... .......... .......... 64% 13.6M 0s\n",
      "  2100K .......... .......... .......... .......... .......... 65% 10.5M 0s\n",
      "  2150K .......... .......... .......... .......... .......... 67% 11.9M 0s\n",
      "  2200K .......... .......... .......... .......... .......... 68% 21.7M 0s\n",
      "  2250K .......... .......... .......... .......... .......... 70% 16.9M 0s\n",
      "  2300K .......... .......... .......... .......... .......... 71% 20.1M 0s\n",
      "  2350K .......... .......... .......... .......... .......... 73% 21.1M 0s\n",
      "  2400K .......... .......... .......... .......... .......... 74% 18.0M 0s\n",
      "  2450K .......... .......... .......... .......... .......... 76% 24.0M 0s\n",
      "  2500K .......... .......... .......... .......... .......... 77% 25.2M 0s\n",
      "  2550K .......... .......... .......... .......... .......... 79% 26.8M 0s\n",
      "  2600K .......... .......... .......... .......... .......... 80% 22.0M 0s\n",
      "  2650K .......... .......... .......... .......... .......... 82% 25.6M 0s\n",
      "  2700K .......... .......... .......... .......... .......... 83% 11.6M 0s\n",
      "  2750K .......... .......... .......... .......... .......... 85% 10.2M 0s\n",
      "  2800K .......... .......... .......... .......... .......... 86% 21.8M 0s\n",
      "  2850K .......... .......... .......... .......... .......... 88% 21.0M 0s\n",
      "  2900K .......... .......... .......... .......... .......... 89% 18.1M 0s\n",
      "  2950K .......... .......... .......... .......... .......... 91% 24.7M 0s\n",
      "  3000K .......... .......... .......... .......... .......... 92% 13.1M 0s\n",
      "  3050K .......... .......... .......... .......... .......... 94% 20.4M 0s\n",
      "  3100K .......... .......... .......... .......... .......... 96% 24.4M 0s\n",
      "  3150K .......... .......... .......... .......... .......... 97% 25.0M 0s\n",
      "  3200K .......... .......... .......... .......... .......... 99% 22.8M 0s\n",
      "  3250K .......... .......... ..........                      100% 23.3M=0.4s\n",
      "\n",
      "2017-10-03 21:47:02 (8.41 MB/s) - ‘2600-0.txt’ saved [3359550/3359550]\n",
      "\n"
     ]
    }
   ],
   "source": [
    "%%bash\n",
    "\n",
    "wget http://www.gutenberg.org/files/2600/2600-0.txt\n"
   ]
  },
  {
   "cell_type": "code",
   "execution_count": 78,
   "metadata": {},
   "outputs": [
    {
     "name": "stdout",
     "output_type": "stream",
     "text": [
      "﻿\r\n",
      "The Project Gutenberg EBook of War and Peace, by Leo Tolstoy\r\n",
      "\r\n",
      "This eBook is for the use of anyone anywhere at no cost and with almost\r\n",
      "no restrictions whatsoever. You may copy it, give it away or re-use\r\n",
      "it under the terms of the Project Gutenberg License included with this\r\n",
      "eBook or online at www.gutenberg.org\r\n",
      "\r\n",
      "\r\n",
      "Title: War and Peace\r\n"
     ]
    }
   ],
   "source": [
    "%%bash\n",
    "\n",
    "head 2600-0.txt"
   ]
  },
  {
   "cell_type": "code",
   "execution_count": 79,
   "metadata": {},
   "outputs": [],
   "source": [
    "import requests"
   ]
  },
  {
   "cell_type": "code",
   "execution_count": 80,
   "metadata": {},
   "outputs": [],
   "source": [
    "wp = requests.get(\"http://www.gutenberg.org/files/2600/2600-0.txt\")"
   ]
  },
  {
   "cell_type": "code",
   "execution_count": 81,
   "metadata": {},
   "outputs": [
    {
     "data": {
      "text/plain": [
       "'\\ufeff\\r\\nThe Project Gutenberg EBook of War and Peace, by Leo Tolstoy\\r\\n\\r\\nThis eBook is for the use of anyone anywhere at no cost and with almost\\r\\nno restrictions whatsoever. You may copy it, give it away or re-use\\r\\nit under the terms of the Project Gutenberg License included with this\\r\\neBook or online at www.gutenberg.org\\r\\n\\r\\n\\r\\nTitle: War and Peace\\r\\n\\r\\nAuthor: Leo Tolstoy\\r\\n\\r\\nTranslators: Louise and Aylmer Maude\\r\\n\\r\\nPosting Date: January 10, 2009 [EBook #2600]\\r\\n\\r\\nLast Updated: December 17, 2016\\r\\n\\r\\nLanguage: English\\r\\n\\r\\nCharacter set encoding: UTF-8\\r\\n\\r\\n*** START OF THIS PROJECT GUTENBERG EBOOK WAR AND PEACE ***\\r\\n\\r\\n\\r\\n\\r\\n\\r\\nAn Anonymous Volunteer, and David Widger\\r\\n\\r\\n\\r\\n\\r\\n\\r\\n\\r\\n\\r\\nWAR AND PEACE\\r\\n\\r\\n\\r\\nBy Leo Tolstoy/Tolstoi\\r\\n\\r\\n\\r\\n\\r\\n\\r\\n\\r\\n    CONTENTS\\r\\n\\r\\n\\r\\n    BOOK ONE: 1805\\r\\n\\r\\n    CHAPTER I\\r\\n\\r\\n    CHAPTER II\\r\\n\\r\\n    CHAPTER III\\r\\n\\r\\n    CHAPTER IV\\r\\n\\r\\n    CHAPTER V\\r\\n\\r\\n    CHAPTER VI\\r\\n\\r\\n    CHAPTER VII\\r\\n\\r\\n    CHAPTER VIII\\r\\n\\r\\n    CHAPTER IX\\r\\n\\r\\n    CHAPTER X\\r\\n\\r\\n    CHAPTER XI\\r\\n\\r\\n    CHAPTER XII\\r\\n\\r\\n    CHAPTER XIII\\r\\n\\r'"
      ]
     },
     "execution_count": 81,
     "metadata": {},
     "output_type": "execute_result"
    }
   ],
   "source": [
    "wp.text[0:1000]"
   ]
  },
  {
   "cell_type": "code",
   "execution_count": 82,
   "metadata": {},
   "outputs": [
    {
     "data": {
      "text/plain": [
       "['\\ufeff',\n",
       " 'The Project Gutenberg EBook of War and Peace, by Leo Tolstoy',\n",
       " '',\n",
       " 'This eBook is for the use of anyone anywhere at no cost and with almost',\n",
       " 'no restrictions whatsoever. You may copy it, give it away or re-use',\n",
       " 'it under the terms of the Project Gutenberg License included with this',\n",
       " 'eBook or online at www.gutenberg.org',\n",
       " '',\n",
       " '',\n",
       " 'Title: War and Peace']"
      ]
     },
     "execution_count": 82,
     "metadata": {},
     "output_type": "execute_result"
    }
   ],
   "source": [
    "lines = wp.text.split(\"\\r\\n\")\n",
    "lines[0:10]"
   ]
  },
  {
   "cell_type": "code",
   "execution_count": 83,
   "metadata": {},
   "outputs": [
    {
     "data": {
      "text/plain": [
       "['but hopeless: “The sovereigns, madame... What have they done for Louis',\n",
       " 'XVII, for the Queen, or for Madame Elizabeth? Nothing!” and he became',\n",
       " 'more animated. “And believe me, they are reaping the reward of their',\n",
       " 'betrayal of the Bourbon cause. The sovereigns! Why, they are sending',\n",
       " 'ambassadors to compliment the usurper.”',\n",
       " 'And sighing disdainfully, he again changed his position.',\n",
       " 'Prince Hippolyte, who had been gazing at the vicomte for some time',\n",
       " 'through his lorgnette, suddenly turned completely round toward the',\n",
       " 'little princess, and having asked for a needle began tracing the Condé',\n",
       " 'coat of arms on the table. He explained this to her with as much gravity']"
      ]
     },
     "execution_count": 83,
     "metadata": {},
     "output_type": "execute_result"
    }
   ],
   "source": [
    "lines = list(filter(None, lines))\n",
    "lines[1000:1010]"
   ]
  },
  {
   "cell_type": "code",
   "execution_count": 84,
   "metadata": {},
   "outputs": [
    {
     "name": "stdout",
     "output_type": "stream",
     "text": [
      "but hoplss: “Th sovrigns, madam... What hav thy don for Louis\n",
      "XVII, for th Qun, or for Madam lizabth? Nothing!” and h bcam\n",
      "mor animatd. “And bliv m, thy ar raping th rward of thir\n",
      "btrayal of th Bourbon caus. Th sovrigns! Why, thy ar snding\n",
      "ambassadors to complimnt th usurpr.”\n",
      "And sighing disdainfully, h again changd his position.\n",
      "Princ Hippolyt, who had bn gazing at th vicomt for som tim\n",
      "through his lorgntt, suddnly turnd compltly round toward th\n",
      "littl princss, and having askd for a ndl bgan tracing th Cond\n",
      "coat of arms on th tabl. H xplaind this to hr with as much gravity\n"
     ]
    }
   ],
   "source": [
    "for line in lines[1000:1010]:\n",
    "    print(remove_e(line))"
   ]
  },
  {
   "cell_type": "code",
   "execution_count": 90,
   "metadata": {},
   "outputs": [],
   "source": [
    "with open(\"war-and-pac.txt\", \"w\") as f:\n",
    "    for line in lines:\n",
    "        f.write(remove_e(line) + \"\\n\")\n",
    "    "
   ]
  },
  {
   "cell_type": "code",
   "execution_count": 91,
   "metadata": {},
   "outputs": [
    {
     "name": "stdout",
     "output_type": "stream",
     "text": [
      "﻿\r\n",
      "Th Projct Gutnbrg Book of War and Pac, by Lo Tolstoy\r\n",
      "This Book is for th us of anyon anywhr at no cost and with almost\r\n",
      "no rstrictions whatsovr. You may copy it, giv it away or r-us\r\n",
      "it undr th trms of th Projct Gutnbrg Licns includd with this\r\n",
      "Book or onlin at www.gutnbrg.org\r\n",
      "Titl: War and Pac\r\n",
      "Author: Lo Tolstoy\r\n",
      "Translators: Louis and Aylmr Maud\r\n",
      "Posting Dat: January 10, 2009 [Book #2600]\r\n"
     ]
    }
   ],
   "source": [
    "!head war-and-pac.txt"
   ]
  },
  {
   "cell_type": "code",
   "execution_count": null,
   "metadata": {},
   "outputs": [],
   "source": []
  }
 ],
 "metadata": {
  "kernelspec": {
   "display_name": "Python 3",
   "language": "python",
   "name": "python3"
  },
  "language_info": {
   "codemirror_mode": {
    "name": "ipython",
    "version": 3
   },
   "file_extension": ".py",
   "mimetype": "text/x-python",
   "name": "python",
   "nbconvert_exporter": "python",
   "pygments_lexer": "ipython3",
   "version": "3.6.2"
  }
 },
 "nbformat": 4,
 "nbformat_minor": 2
}
