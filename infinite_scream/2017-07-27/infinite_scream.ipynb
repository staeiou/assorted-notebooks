{
 "cells": [
  {
   "cell_type": "markdown",
   "metadata": {},
   "source": [
    "# Graphing the number of favorites to @infinite_scream over time\n",
    "By R. Stuart Geiger (@staeiou), Released CC-BY 4.0 & MIT License"
   ]
  },
  {
   "cell_type": "markdown",
   "metadata": {},
   "source": [
    "## Setup\n",
    "### Installing dependencies"
   ]
  },
  {
   "cell_type": "code",
   "execution_count": null,
   "metadata": {},
   "outputs": [],
   "source": [
    "!pip install tweepy pandas seaborn "
   ]
  },
  {
   "cell_type": "markdown",
   "metadata": {},
   "source": [
    "### Importing libraries"
   ]
  },
  {
   "cell_type": "code",
   "execution_count": 14,
   "metadata": {},
   "outputs": [],
   "source": [
    "import random\n",
    "import twitter_login  # a file containing my API keys\n",
    "import tweepy\n",
    "\n",
    "import pandas as pd\n",
    "import matplotlib\n",
    "%matplotlib inline\n",
    "import matplotlib.pyplot as plt\n",
    "import seaborn as sns\n",
    "import datetime\n",
    "import pytz"
   ]
  },
  {
   "cell_type": "markdown",
   "metadata": {},
   "source": [
    "### Authenticate with Twitter"
   ]
  },
  {
   "cell_type": "code",
   "execution_count": 2,
   "metadata": {},
   "outputs": [],
   "source": [
    "CONSUMER_KEY = twitter_login.CONSUMER_KEY\n",
    "CONSUMER_SECRET = twitter_login.CONSUMER_SECRET\n",
    "ACCESS_TOKEN = twitter_login.ACCESS_TOKEN\n",
    "ACCESS_TOKEN_SECRET = twitter_login.ACCESS_TOKEN_SECRET\n",
    "\n",
    "# Authenticate\n",
    "\n",
    "auth = tweepy.OAuthHandler(CONSUMER_KEY, CONSUMER_SECRET)\n",
    "auth.set_access_token(ACCESS_TOKEN, ACCESS_TOKEN_SECRET)\n",
    "api = tweepy.API(auth)"
   ]
  },
  {
   "cell_type": "markdown",
   "metadata": {},
   "source": [
    "## Getting the tweets\n",
    "This is limited to the last ~3200 tweets from the API. :("
   ]
  },
  {
   "cell_type": "code",
   "execution_count": 21,
   "metadata": {},
   "outputs": [
    {
     "name": "stdout",
     "output_type": "stream",
     "text": [
      "getting tweets before 890503188503310336\n",
      "...400 tweets downloaded so far\n",
      "getting tweets before 890143317459177471\n",
      "...600 tweets downloaded so far\n",
      "getting tweets before 889796021882146815\n",
      "...800 tweets downloaded so far\n",
      "getting tweets before 889565903372865537\n",
      "...1000 tweets downloaded so far\n",
      "getting tweets before 889119067923247103\n",
      "...1200 tweets downloaded so far\n",
      "getting tweets before 888688733725351935\n",
      "...1400 tweets downloaded so far\n",
      "getting tweets before 888260914566135808\n",
      "...1600 tweets downloaded so far\n",
      "getting tweets before 887880907302068227\n",
      "...1800 tweets downloaded so far\n",
      "getting tweets before 887464546432163844\n",
      "...2000 tweets downloaded so far\n",
      "getting tweets before 887078095353761792\n",
      "...2200 tweets downloaded so far\n",
      "getting tweets before 886714609201278975\n",
      "...2400 tweets downloaded so far\n",
      "getting tweets before 886489213109231616\n",
      "...2600 tweets downloaded so far\n",
      "getting tweets before 886056360768671743\n",
      "...2800 tweets downloaded so far\n",
      "getting tweets before 885648673920741377\n",
      "...3000 tweets downloaded so far\n",
      "getting tweets before 885246022825517055\n",
      "...3200 tweets downloaded so far\n",
      "getting tweets before 884825753417920520\n",
      "...3237 tweets downloaded so far\n",
      "getting tweets before 884755290876518399\n",
      "...3237 tweets downloaded so far\n"
     ]
    }
   ],
   "source": [
    "# by yanofsky, https://gist.github.com/yanofsky/5436496\n",
    "\n",
    "screen_name=\"infinite_scream\"\n",
    "\n",
    "#initialize a list to hold all the tweepy Tweets\n",
    "alltweets = []\n",
    "\n",
    "#make initial request for most recent tweets (200 is the maximum allowed count)\n",
    "new_tweets = api.user_timeline(screen_name = screen_name,count=200)\n",
    "\n",
    "#save most recent tweets\n",
    "alltweets.extend(new_tweets)\n",
    "\n",
    "#save the id of the oldest tweet less one\n",
    "oldest = alltweets[-1].id - 1\n",
    "\n",
    "#keep grabbing tweets until there are no tweets left to grab\n",
    "while len(new_tweets) > 0:\n",
    "    print(\"getting tweets before %s\" % (oldest))\n",
    "\n",
    "    #all subsiquent requests use the max_id param to prevent duplicates\n",
    "    new_tweets = api.user_timeline(screen_name = screen_name,count=200,max_id=oldest)\n",
    "\n",
    "    #save most recent tweets\n",
    "    alltweets.extend(new_tweets)\n",
    "\n",
    "    #update the id of the oldest tweet less one\n",
    "    oldest = alltweets[-1].id - 1\n",
    "\n",
    "    print(\"...%s tweets downloaded so far\" % (len(alltweets)))"
   ]
  },
  {
   "cell_type": "markdown",
   "metadata": {},
   "source": [
    "## Data processing\n",
    "First, go through all the tweets and pull out a few key variables, putting it into a two-dimensional array."
   ]
  },
  {
   "cell_type": "code",
   "execution_count": 22,
   "metadata": {},
   "outputs": [],
   "source": [
    "tweets = [[tweet.id_str, tweet.created_at, tweet.favorite_count, tweet.retweet_count,\\\n",
    "           tweet.favorite_count + tweet.retweet_count, tweet.in_reply_to_screen_name is not None,\\\n",
    "           tweet.text, len(tweet.text)] for tweet in alltweets]"
   ]
  },
  {
   "cell_type": "markdown",
   "metadata": {},
   "source": [
    "Convert to a pandas DataFrame for easy processing"
   ]
  },
  {
   "cell_type": "code",
   "execution_count": 23,
   "metadata": {},
   "outputs": [],
   "source": [
    "tweets_df = pd.DataFrame.from_dict(tweets)"
   ]
  },
  {
   "cell_type": "code",
   "execution_count": 24,
   "metadata": {},
   "outputs": [],
   "source": [
    "tweets_df.columns = [\"id_str\", \"created_at\", \"favorite_count\", \"retweet_count\", \"fav_rt_count\", \\\n",
    "                     \"is_reply\", \"tweet_text\", \"tweet_length\"]"
   ]
  },
  {
   "cell_type": "markdown",
   "metadata": {},
   "source": [
    "Peek into this dataframe, pulling out rows 1000 to 1005"
   ]
  },
  {
   "cell_type": "code",
   "execution_count": 25,
   "metadata": {},
   "outputs": [
    {
     "data": {
      "text/html": [
       "<div>\n",
       "<style>\n",
       "    .dataframe thead tr:only-child th {\n",
       "        text-align: right;\n",
       "    }\n",
       "\n",
       "    .dataframe thead th {\n",
       "        text-align: left;\n",
       "    }\n",
       "\n",
       "    .dataframe tbody tr th {\n",
       "        vertical-align: top;\n",
       "    }\n",
       "</style>\n",
       "<table border=\"1\" class=\"dataframe\">\n",
       "  <thead>\n",
       "    <tr style=\"text-align: right;\">\n",
       "      <th></th>\n",
       "      <th>id_str</th>\n",
       "      <th>created_at</th>\n",
       "      <th>favorite_count</th>\n",
       "      <th>retweet_count</th>\n",
       "      <th>fav_rt_count</th>\n",
       "      <th>is_reply</th>\n",
       "      <th>tweet_text</th>\n",
       "      <th>tweet_length</th>\n",
       "    </tr>\n",
       "  </thead>\n",
       "  <tbody>\n",
       "    <tr>\n",
       "      <th>1000</th>\n",
       "      <td>889116549503524865</td>\n",
       "      <td>2017-07-23 13:34:39</td>\n",
       "      <td>12</td>\n",
       "      <td>6</td>\n",
       "      <td>18</td>\n",
       "      <td>False</td>\n",
       "      <td>AAAAAHHHHHHHHHH</td>\n",
       "      <td>15</td>\n",
       "    </tr>\n",
       "    <tr>\n",
       "      <th>1001</th>\n",
       "      <td>889114034393546752</td>\n",
       "      <td>2017-07-23 13:24:39</td>\n",
       "      <td>7</td>\n",
       "      <td>1</td>\n",
       "      <td>8</td>\n",
       "      <td>False</td>\n",
       "      <td>AAAAAAAAAAAAAHHHHH</td>\n",
       "      <td>18</td>\n",
       "    </tr>\n",
       "    <tr>\n",
       "      <th>1002</th>\n",
       "      <td>889111517148446720</td>\n",
       "      <td>2017-07-23 13:14:39</td>\n",
       "      <td>5</td>\n",
       "      <td>1</td>\n",
       "      <td>6</td>\n",
       "      <td>False</td>\n",
       "      <td>AAHHHHH</td>\n",
       "      <td>7</td>\n",
       "    </tr>\n",
       "    <tr>\n",
       "      <th>1003</th>\n",
       "      <td>889109001765621762</td>\n",
       "      <td>2017-07-23 13:04:39</td>\n",
       "      <td>10</td>\n",
       "      <td>6</td>\n",
       "      <td>16</td>\n",
       "      <td>False</td>\n",
       "      <td>AHHHHHHHHHHHHHHH</td>\n",
       "      <td>16</td>\n",
       "    </tr>\n",
       "    <tr>\n",
       "      <th>1004</th>\n",
       "      <td>889106483736084480</td>\n",
       "      <td>2017-07-23 12:54:39</td>\n",
       "      <td>6</td>\n",
       "      <td>1</td>\n",
       "      <td>7</td>\n",
       "      <td>False</td>\n",
       "      <td>AAAAAAAAAAAAAHHHH</td>\n",
       "      <td>17</td>\n",
       "    </tr>\n",
       "  </tbody>\n",
       "</table>\n",
       "</div>"
      ],
      "text/plain": [
       "                  id_str          created_at  favorite_count  retweet_count  \\\n",
       "1000  889116549503524865 2017-07-23 13:34:39              12              6   \n",
       "1001  889114034393546752 2017-07-23 13:24:39               7              1   \n",
       "1002  889111517148446720 2017-07-23 13:14:39               5              1   \n",
       "1003  889109001765621762 2017-07-23 13:04:39              10              6   \n",
       "1004  889106483736084480 2017-07-23 12:54:39               6              1   \n",
       "\n",
       "      fav_rt_count  is_reply          tweet_text  tweet_length  \n",
       "1000            18     False     AAAAAHHHHHHHHHH            15  \n",
       "1001             8     False  AAAAAAAAAAAAAHHHHH            18  \n",
       "1002             6     False             AAHHHHH             7  \n",
       "1003            16     False    AHHHHHHHHHHHHHHH            16  \n",
       "1004             7     False   AAAAAAAAAAAAAHHHH            17  "
      ]
     },
     "execution_count": 25,
     "metadata": {},
     "output_type": "execute_result"
    }
   ],
   "source": [
    "tweets_df[1000:1005]"
   ]
  },
  {
   "cell_type": "markdown",
   "metadata": {},
   "source": [
    "Filter out tweets that were replies to specific users."
   ]
  },
  {
   "cell_type": "code",
   "execution_count": 26,
   "metadata": {},
   "outputs": [],
   "source": [
    "tweets_noreplies_df = tweets_df[tweets_df['is_reply'] == False]\n"
   ]
  },
  {
   "cell_type": "markdown",
   "metadata": {},
   "source": [
    "Time is in UTC / GMT-0 from the API, convert to US/Pacific"
   ]
  },
  {
   "cell_type": "code",
   "execution_count": 27,
   "metadata": {},
   "outputs": [
    {
     "data": {
      "text/plain": [
       "created_at\n",
       "2017-07-27 21:04:39-07:00     35\n",
       "2017-07-27 20:54:39-07:00     13\n",
       "2017-07-27 20:44:39-07:00    167\n",
       "2017-07-27 20:34:39-07:00     47\n",
       "2017-07-27 20:24:39-07:00     93\n",
       "2017-07-27 20:14:39-07:00     56\n",
       "2017-07-27 20:04:39-07:00     28\n",
       "2017-07-27 19:54:39-07:00     47\n",
       "2017-07-27 19:44:39-07:00     78\n",
       "2017-07-27 19:34:39-07:00     39\n",
       "Name: fav_rt_count, dtype: int64"
      ]
     },
     "execution_count": 27,
     "metadata": {},
     "output_type": "execute_result"
    }
   ],
   "source": [
    "fav_count = tweets_noreplies_df.set_index(\"created_at\")[\"fav_rt_count\"]\n",
    "fav_count = fav_count.tz_localize(pytz.utc).tz_convert(pytz.timezone('US/Pacific'))\n",
    "fav_count[0:10]"
   ]
  },
  {
   "cell_type": "markdown",
   "metadata": {},
   "source": [
    "## Visualization"
   ]
  },
  {
   "cell_type": "code",
   "execution_count": 29,
   "metadata": {},
   "outputs": [
    {
     "data": {
      "text/plain": [
       "(736521.53093749995, 736538.41989583336)"
      ]
     },
     "execution_count": 29,
     "metadata": {},
     "output_type": "execute_result"
    },
    {
     "data": {
      "image/png": "[encoded data removed]",
      "text/plain": [
       "<matplotlib.figure.Figure at 0x7f0765958908>"
      ]
     },
     "metadata": {},
     "output_type": "display_data"
    }
   ],
   "source": [
    "ax = fav_count.plot(figsize=[14,8], fontsize=16)\n",
    "ax.set_title(\"Engagement to @infinite_scream's tweets over time\", {\"fontsize\":20})\n",
    "ax.set_ylabel(\"Number of favorites + retweets\", {\"fontsize\":20})\n",
    "ax.set_xlabel(\"Time (Pacific Standard Time / GMT-8)\", {\"fontsize\":20})\n",
    "xlim_start, xlim_end = plt.xlim()\n",
    "xlim_end = xlim_end + .25\n",
    "plt.xlim(xlim_start, xlim_end)"
   ]
  },
  {
   "cell_type": "markdown",
   "metadata": {},
   "source": [
    "## Output to file"
   ]
  },
  {
   "cell_type": "code",
   "execution_count": null,
   "metadata": {},
   "outputs": [],
   "source": [
    "tweets_df.index.name = \"tweet_num\"\n",
    "tweets_df.to_csv(\"infinite_scream.csv\")\n",
    "tweets_df.to_json(\"infinite_scream.json\")"
   ]
  },
  {
   "cell_type": "code",
   "execution_count": null,
   "metadata": {},
   "outputs": [],
   "source": [
    "!head infinite_scream.csv"
   ]
  },
  {
   "cell_type": "code",
   "execution_count": null,
   "metadata": {
    "collapsed": true
   },
   "outputs": [],
   "source": []
  }
 ],
 "metadata": {
  "kernelspec": {
   "display_name": "Python [conda root]",
   "language": "python",
   "name": "conda-root-py"
  },
  "language_info": {
   "codemirror_mode": {
    "name": "ipython",
    "version": 3
   },
   "file_extension": ".py",
   "mimetype": "text/x-python",
   "name": "python",
   "nbconvert_exporter": "python",
   "pygments_lexer": "ipython3",
   "version": "3.5.3"
  }
 },
 "nbformat": 4,
 "nbformat_minor": 2
}
