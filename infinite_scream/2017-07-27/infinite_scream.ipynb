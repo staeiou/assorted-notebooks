{
 "cells": [
  {
   "cell_type": "markdown",
   "metadata": {},
   "source": [
    "# Graphing the number of favorites to @infinite_scream over time\n",
    "By R. Stuart Geiger (@staeiou), Released CC-BY 4.0 & MIT License"
   ]
  },
  {
   "cell_type": "markdown",
   "metadata": {},
   "source": [
    "## Setup\n",
    "### Installing dependencies"
   ]
  },
  {
   "cell_type": "code",
   "execution_count": 1,
   "metadata": {},
   "outputs": [
    {
     "name": "stdout",
     "output_type": "stream",
     "text": [
      "Requirement already satisfied: tweepy in /home/staeiou/conda/lib/python3.5/site-packages\n",
      "Requirement already satisfied: pandas in /home/staeiou/conda/lib/python3.5/site-packages\n",
      "Requirement already satisfied: seaborn in /home/staeiou/conda/lib/python3.5/site-packages\n",
      "Requirement already satisfied: requests>=2.4.3 in /home/staeiou/conda/lib/python3.5/site-packages (from tweepy)\n",
      "Requirement already satisfied: requests-oauthlib>=0.4.1 in /home/staeiou/conda/lib/python3.5/site-packages (from tweepy)\n",
      "Requirement already satisfied: six>=1.7.3 in /home/staeiou/conda/lib/python3.5/site-packages (from tweepy)\n",
      "Requirement already satisfied: python-dateutil>=2 in /home/staeiou/conda/lib/python3.5/site-packages (from pandas)\n",
      "Requirement already satisfied: pytz>=2011k in /home/staeiou/conda/lib/python3.5/site-packages (from pandas)\n",
      "Requirement already satisfied: numpy>=1.7.0 in /home/staeiou/conda/lib/python3.5/site-packages (from pandas)\n",
      "Requirement already satisfied: oauthlib>=0.6.2 in /home/staeiou/conda/lib/python3.5/site-packages (from requests-oauthlib>=0.4.1->tweepy)\n"
     ]
    }
   ],
   "source": [
    "!pip install tweepy pandas seaborn "
   ]
  },
  {
   "cell_type": "markdown",
   "metadata": {},
   "source": [
    "### Importing libraries"
   ]
  },
  {
   "cell_type": "code",
   "execution_count": 2,
   "metadata": {
    "collapsed": true
   },
   "outputs": [],
   "source": [
    "import random\n",
    "import twitter_login  # a file containing my API keys\n",
    "import tweepy\n",
    "\n",
    "import pandas as pd\n",
    "import matplotlib\n",
    "%matplotlib inline\n",
    "import matplotlib.pyplot as plt\n",
    "import seaborn as sns\n",
    "import datetime\n",
    "import pytz"
   ]
  },
  {
   "cell_type": "markdown",
   "metadata": {},
   "source": [
    "### Authenticate with Twitter"
   ]
  },
  {
   "cell_type": "code",
   "execution_count": 3,
   "metadata": {
    "collapsed": true
   },
   "outputs": [],
   "source": [
    "CONSUMER_KEY = twitter_login.CONSUMER_KEY\n",
    "CONSUMER_SECRET = twitter_login.CONSUMER_SECRET\n",
    "ACCESS_TOKEN = twitter_login.ACCESS_TOKEN\n",
    "ACCESS_TOKEN_SECRET = twitter_login.ACCESS_TOKEN_SECRET\n",
    "\n",
    "# Authenticate\n",
    "\n",
    "auth = tweepy.OAuthHandler(CONSUMER_KEY, CONSUMER_SECRET)\n",
    "auth.set_access_token(ACCESS_TOKEN, ACCESS_TOKEN_SECRET)\n",
    "api = tweepy.API(auth)"
   ]
  },
  {
   "cell_type": "markdown",
   "metadata": {},
   "source": [
    "## Getting the tweets\n",
    "This is limited to the last ~3200 tweets from the API. :("
   ]
  },
  {
   "cell_type": "code",
   "execution_count": 4,
   "metadata": {},
   "outputs": [
    {
     "name": "stdout",
     "output_type": "stream",
     "text": [
      "getting tweets before 890520937354993663\n",
      "...400 tweets downloaded so far\n",
      "getting tweets before 890165966184882175\n",
      "...600 tweets downloaded so far\n",
      "getting tweets before 889821186279997441\n",
      "...800 tweets downloaded so far\n",
      "getting tweets before 889589662125363199\n",
      "...1000 tweets downloaded so far\n",
      "getting tweets before 889144233315250176\n",
      "...1200 tweets downloaded so far\n",
      "getting tweets before 888713905316515839\n",
      "...1400 tweets downloaded so far\n",
      "getting tweets before 888281045912526847\n",
      "...1600 tweets downloaded so far\n",
      "getting tweets before 887906074371731455\n",
      "...1800 tweets downloaded so far\n",
      "getting tweets before 887478259469910015\n",
      "...2000 tweets downloaded so far\n",
      "getting tweets before 887100750219890688\n",
      "...2200 tweets downloaded so far\n",
      "getting tweets before 886717121975201791\n",
      "...2400 tweets downloaded so far\n",
      "getting tweets before 886506830297485311\n",
      "...2600 tweets downloaded so far\n",
      "getting tweets before 886081529079836672\n",
      "...2800 tweets downloaded so far\n",
      "getting tweets before 885670229136879615\n",
      "...3000 tweets downloaded so far\n",
      "getting tweets before 885266156864581631\n",
      "...3200 tweets downloaded so far\n",
      "getting tweets before 884844792483598336\n",
      "...3247 tweets downloaded so far\n",
      "getting tweets before 884755290876518399\n",
      "...3247 tweets downloaded so far\n"
     ]
    }
   ],
   "source": [
    "# by yanofsky, https://gist.github.com/yanofsky/5436496\n",
    "\n",
    "screen_name=\"infinite_scream\"\n",
    "\n",
    "#initialize a list to hold all the tweepy Tweets\n",
    "alltweets = []\n",
    "\n",
    "#make initial request for most recent tweets (200 is the maximum allowed count)\n",
    "new_tweets = api.user_timeline(screen_name = screen_name,count=200)\n",
    "\n",
    "#save most recent tweets\n",
    "alltweets.extend(new_tweets)\n",
    "\n",
    "#save the id of the oldest tweet less one\n",
    "oldest = alltweets[-1].id - 1\n",
    "\n",
    "#keep grabbing tweets until there are no tweets left to grab\n",
    "while len(new_tweets) > 0:\n",
    "    print(\"getting tweets before %s\" % (oldest))\n",
    "\n",
    "    #all subsiquent requests use the max_id param to prevent duplicates\n",
    "    new_tweets = api.user_timeline(screen_name = screen_name,count=200,max_id=oldest)\n",
    "\n",
    "    #save most recent tweets\n",
    "    alltweets.extend(new_tweets)\n",
    "\n",
    "    #update the id of the oldest tweet less one\n",
    "    oldest = alltweets[-1].id - 1\n",
    "\n",
    "    print(\"...%s tweets downloaded so far\" % (len(alltweets)))"
   ]
  },
  {
   "cell_type": "markdown",
   "metadata": {},
   "source": [
    "## Data processing\n",
    "First, go through all the tweets and pull out a few key variables, putting it into a two-dimensional array."
   ]
  },
  {
   "cell_type": "code",
   "execution_count": 5,
   "metadata": {
    "collapsed": true
   },
   "outputs": [],
   "source": [
    "tweets = [[tweet.id_str, tweet.created_at, tweet.favorite_count, tweet.retweet_count,\\\n",
    "           tweet.favorite_count + tweet.retweet_count, tweet.in_reply_to_screen_name is not None,\\\n",
    "           tweet.text, len(tweet.text)] for tweet in alltweets]"
   ]
  },
  {
   "cell_type": "markdown",
   "metadata": {},
   "source": [
    "Convert to a pandas DataFrame for easy processing"
   ]
  },
  {
   "cell_type": "code",
   "execution_count": 6,
   "metadata": {
    "collapsed": true
   },
   "outputs": [],
   "source": [
    "tweets_df = pd.DataFrame.from_dict(tweets)"
   ]
  },
  {
   "cell_type": "code",
   "execution_count": 7,
   "metadata": {
    "collapsed": true
   },
   "outputs": [],
   "source": [
    "tweets_df.columns = [\"id_str\", \"created_at\", \"favorite_count\", \"retweet_count\", \"fav_rt_count\", \\\n",
    "                     \"is_reply\", \"tweet_text\", \"tweet_length\"]"
   ]
  },
  {
   "cell_type": "markdown",
   "metadata": {},
   "source": [
    "Peek into this dataframe, pulling out rows 1000 to 1005"
   ]
  },
  {
   "cell_type": "code",
   "execution_count": 8,
   "metadata": {},
   "outputs": [
    {
     "data": {
      "text/html": [
       "<div>\n",
       "<style>\n",
       "    .dataframe thead tr:only-child th {\n",
       "        text-align: right;\n",
       "    }\n",
       "\n",
       "    .dataframe thead th {\n",
       "        text-align: left;\n",
       "    }\n",
       "\n",
       "    .dataframe tbody tr th {\n",
       "        vertical-align: top;\n",
       "    }\n",
       "</style>\n",
       "<table border=\"1\" class=\"dataframe\">\n",
       "  <thead>\n",
       "    <tr style=\"text-align: right;\">\n",
       "      <th></th>\n",
       "      <th>id_str</th>\n",
       "      <th>created_at</th>\n",
       "      <th>favorite_count</th>\n",
       "      <th>retweet_count</th>\n",
       "      <th>fav_rt_count</th>\n",
       "      <th>is_reply</th>\n",
       "      <th>tweet_text</th>\n",
       "      <th>tweet_length</th>\n",
       "    </tr>\n",
       "  </thead>\n",
       "  <tbody>\n",
       "    <tr>\n",
       "      <th>1000</th>\n",
       "      <td>889141714946056192</td>\n",
       "      <td>2017-07-23 15:14:38</td>\n",
       "      <td>7</td>\n",
       "      <td>2</td>\n",
       "      <td>9</td>\n",
       "      <td>False</td>\n",
       "      <td>AAAAAAHHHHHHHHHHHHH</td>\n",
       "      <td>19</td>\n",
       "    </tr>\n",
       "    <tr>\n",
       "      <th>1001</th>\n",
       "      <td>889139200238465025</td>\n",
       "      <td>2017-07-23 15:04:39</td>\n",
       "      <td>8</td>\n",
       "      <td>0</td>\n",
       "      <td>8</td>\n",
       "      <td>False</td>\n",
       "      <td>AAAAAAAAHHHHHHH</td>\n",
       "      <td>15</td>\n",
       "    </tr>\n",
       "    <tr>\n",
       "      <th>1002</th>\n",
       "      <td>889136683387674629</td>\n",
       "      <td>2017-07-23 14:54:39</td>\n",
       "      <td>12</td>\n",
       "      <td>5</td>\n",
       "      <td>17</td>\n",
       "      <td>False</td>\n",
       "      <td>AAAAAAAAAAAAAAHHHHH</td>\n",
       "      <td>19</td>\n",
       "    </tr>\n",
       "    <tr>\n",
       "      <th>1003</th>\n",
       "      <td>889134165496655872</td>\n",
       "      <td>2017-07-23 14:44:39</td>\n",
       "      <td>9</td>\n",
       "      <td>3</td>\n",
       "      <td>12</td>\n",
       "      <td>False</td>\n",
       "      <td>AAAHHH</td>\n",
       "      <td>6</td>\n",
       "    </tr>\n",
       "    <tr>\n",
       "      <th>1004</th>\n",
       "      <td>889131652219367424</td>\n",
       "      <td>2017-07-23 14:34:39</td>\n",
       "      <td>11</td>\n",
       "      <td>5</td>\n",
       "      <td>16</td>\n",
       "      <td>False</td>\n",
       "      <td>AAAAAHHHHHHHHHHHHHH</td>\n",
       "      <td>19</td>\n",
       "    </tr>\n",
       "  </tbody>\n",
       "</table>\n",
       "</div>"
      ],
      "text/plain": [
       "                  id_str          created_at  favorite_count  retweet_count  \\\n",
       "1000  889141714946056192 2017-07-23 15:14:38               7              2   \n",
       "1001  889139200238465025 2017-07-23 15:04:39               8              0   \n",
       "1002  889136683387674629 2017-07-23 14:54:39              12              5   \n",
       "1003  889134165496655872 2017-07-23 14:44:39               9              3   \n",
       "1004  889131652219367424 2017-07-23 14:34:39              11              5   \n",
       "\n",
       "      fav_rt_count  is_reply           tweet_text  tweet_length  \n",
       "1000             9     False  AAAAAAHHHHHHHHHHHHH            19  \n",
       "1001             8     False      AAAAAAAAHHHHHHH            15  \n",
       "1002            17     False  AAAAAAAAAAAAAAHHHHH            19  \n",
       "1003            12     False               AAAHHH             6  \n",
       "1004            16     False  AAAAAHHHHHHHHHHHHHH            19  "
      ]
     },
     "execution_count": 8,
     "metadata": {},
     "output_type": "execute_result"
    }
   ],
   "source": [
    "tweets_df[1000:1005]"
   ]
  },
  {
   "cell_type": "markdown",
   "metadata": {},
   "source": [
    "Filter out tweets that were replies to specific users."
   ]
  },
  {
   "cell_type": "code",
   "execution_count": 9,
   "metadata": {
    "collapsed": true
   },
   "outputs": [],
   "source": [
    "tweets_noreplies_df = tweets_df[tweets_df['is_reply'] == False]\n"
   ]
  },
  {
   "cell_type": "markdown",
   "metadata": {},
   "source": [
    "Time is in UTC / GMT-0 from the API, convert to US/Pacific"
   ]
  },
  {
   "cell_type": "code",
   "execution_count": 10,
   "metadata": {},
   "outputs": [
    {
     "data": {
      "text/plain": [
       "created_at\n",
       "2017-07-27 21:34:39-07:00     27\n",
       "2017-07-27 21:24:39-07:00    131\n",
       "2017-07-27 21:14:39-07:00     61\n",
       "2017-07-27 21:04:39-07:00     77\n",
       "2017-07-27 20:54:39-07:00     14\n",
       "2017-07-27 20:44:39-07:00    181\n",
       "2017-07-27 20:34:39-07:00     51\n",
       "2017-07-27 20:24:39-07:00    100\n",
       "2017-07-27 20:14:39-07:00     62\n",
       "2017-07-27 20:04:39-07:00     28\n",
       "Name: fav_rt_count, dtype: int64"
      ]
     },
     "execution_count": 10,
     "metadata": {},
     "output_type": "execute_result"
    }
   ],
   "source": [
    "fav_count = tweets_noreplies_df.set_index(\"created_at\")[\"fav_rt_count\"]\n",
    "fav_count = fav_count.tz_localize(pytz.utc).tz_convert(pytz.timezone('US/Pacific'))\n",
    "fav_count[0:10]"
   ]
  },
  {
   "cell_type": "markdown",
   "metadata": {},
   "source": [
    "## Visualization"
   ]
  },
  {
   "cell_type": "code",
   "execution_count": 11,
   "metadata": {},
   "outputs": [
    {
     "data": {
      "text/plain": [
       "(736521.53093749995, 736538.44072916661)"
      ]
     },
     "execution_count": 11,
     "metadata": {},
     "output_type": "execute_result"
    },
    {
     "data": {
      "image/png": "[encoded data removed]",
      "text/plain": [
       "<matplotlib.figure.Figure at 0x7fe155cec2b0>"
      ]
     },
     "metadata": {},
     "output_type": "display_data"
    }
   ],
   "source": [
    "ax = fav_count.plot(figsize=[14,8], fontsize=16)\n",
    "ax.set_title(\"Engagement to @infinite_scream's tweets over time\", {\"fontsize\":20})\n",
    "ax.set_ylabel(\"Number of favorites + retweets\", {\"fontsize\":20})\n",
    "ax.set_xlabel(\"Time (Pacific Standard Time / GMT-8)\", {\"fontsize\":20})\n",
    "xlim_start, xlim_end = plt.xlim()\n",
    "xlim_end = xlim_end + .25\n",
    "plt.xlim(xlim_start, xlim_end)"
   ]
  },
  {
   "cell_type": "markdown",
   "metadata": {},
   "source": [
    "## Output to file"
   ]
  },
  {
   "cell_type": "code",
   "execution_count": 12,
   "metadata": {
    "collapsed": true
   },
   "outputs": [],
   "source": [
    "tweets_df.index.name = \"tweet_num\"\n",
    "tweets_df.to_csv(\"infinite_scream.csv\")\n",
    "tweets_df.to_json(\"infinite_scream.json\")"
   ]
  },
  {
   "cell_type": "code",
   "execution_count": 13,
   "metadata": {},
   "outputs": [
    {
     "name": "stdout",
     "output_type": "stream",
     "text": [
      "tweet_num,id_str,created_at,favorite_count,retweet_count,fav_rt_count,is_reply,tweet_text,tweet_length\r\n",
      "0,890792730653339648,2017-07-28 04:35:11,0,0,0,True,@citizen_born AAAAAAAAAAAAAAAAHHHHHH,36\r\n",
      "1,890792730653274112,2017-07-28 04:35:11,0,0,0,True,@LeslieBattenND AAAAAAAAAAAAAAAAHH,34\r\n",
      "2,890792730644840449,2017-07-28 04:35:11,0,0,0,True,@AngryNIdaho AAAAAAAAAAAAAAAAAHHHHHHH,37\r\n",
      "3,890792593658871808,2017-07-28 04:34:39,11,16,27,False,AAAAAAHHHHHHH,13\r\n",
      "4,890791471674253312,2017-07-28 04:30:11,2,1,3,True,@bazelonbethany AAAAAAAAAAAAAAAHHHHHHHH,39\r\n",
      "5,890790211311071233,2017-07-28 04:25:11,0,0,0,True,@parsaguin AAAAAAHHHHHHHHHHHHHHH,32\r\n",
      "6,890790079735762945,2017-07-28 04:24:39,64,67,131,False,AAAAAAAAAAAAAAAAAAAAAAAHHHHHHHHHHHH,35\r\n",
      "7,890788957214167040,2017-07-28 04:20:12,0,0,0,True,@YerbaDog AHHHHH,16\r\n",
      "8,890788957126103040,2017-07-28 04:20:12,0,0,0,True,@TheDannyBarry AAAAAAAAAAAAAHHHHHHHHH,37\r\n"
     ]
    }
   ],
   "source": [
    "!head infinite_scream.csv"
   ]
  },
  {
   "cell_type": "code",
   "execution_count": null,
   "metadata": {
    "collapsed": true
   },
   "outputs": [],
   "source": []
  }
 ],
 "metadata": {
  "kernelspec": {
   "display_name": "Python [conda root]",
   "language": "python",
   "name": "conda-root-py"
  },
  "language_info": {
   "codemirror_mode": {
    "name": "ipython",
    "version": 3
   },
   "file_extension": ".py",
   "mimetype": "text/x-python",
   "name": "python",
   "nbconvert_exporter": "python",
   "pygments_lexer": "ipython3",
   "version": "3.5.3"
  }
 },
 "nbformat": 4,
 "nbformat_minor": 2
}
