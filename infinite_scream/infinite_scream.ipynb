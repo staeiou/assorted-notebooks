{
 "cells": [
  {
   "cell_type": "markdown",
   "metadata": {},
   "source": [
    "# Graphing the number of favorites to @infinite_scream over time\n",
    "By R. Stuart Geiger (@staeiou), Released CC-BY 4.0 & MIT License"
   ]
  },
  {
   "cell_type": "markdown",
   "metadata": {},
   "source": [
    "## Setup\n",
    "### Installing dependencies"
   ]
  },
  {
   "cell_type": "code",
   "execution_count": 1,
   "metadata": {
    "collapsed": false
   },
   "outputs": [
    {
     "name": "stdout",
     "output_type": "stream",
     "text": [
      "Requirement already satisfied: tweepy in /home/stuart/anaconda3/lib/python3.5/site-packages\r\n",
      "Requirement already satisfied: pandas in /home/stuart/anaconda3/lib/python3.5/site-packages\r\n",
      "Requirement already satisfied: seaborn in /home/stuart/anaconda3/lib/python3.5/site-packages\r\n",
      "Requirement already satisfied: requests>=2.4.3 in /home/stuart/anaconda3/lib/python3.5/site-packages (from tweepy)\r\n",
      "Requirement already satisfied: requests-oauthlib>=0.4.1 in /home/stuart/anaconda3/lib/python3.5/site-packages (from tweepy)\r\n",
      "Requirement already satisfied: six>=1.7.3 in /home/stuart/anaconda3/lib/python3.5/site-packages (from tweepy)\r\n",
      "Requirement already satisfied: python-dateutil>=2 in /home/stuart/anaconda3/lib/python3.5/site-packages (from pandas)\r\n",
      "Requirement already satisfied: pytz>=2011k in /home/stuart/anaconda3/lib/python3.5/site-packages (from pandas)\r\n",
      "Requirement already satisfied: numpy>=1.7.0 in /home/stuart/anaconda3/lib/python3.5/site-packages (from pandas)\r\n",
      "Requirement already satisfied: oauthlib>=0.6.2 in /home/stuart/anaconda3/lib/python3.5/site-packages (from requests-oauthlib>=0.4.1->tweepy)\r\n"
     ]
    }
   ],
   "source": [
    "!pip install tweepy pandas seaborn "
   ]
  },
  {
   "cell_type": "markdown",
   "metadata": {},
   "source": [
    "### Importing libraries"
   ]
  },
  {
   "cell_type": "code",
   "execution_count": 2,
   "metadata": {
    "collapsed": false
   },
   "outputs": [],
   "source": [
    "import random\n",
    "import twitter_login  # a file containing my API keys\n",
    "import tweepy\n",
    "\n",
    "import pandas as pd\n",
    "import matplotlib\n",
    "%matplotlib inline\n",
    "import seaborn as sns\n",
    "import datetime\n",
    "import pytz"
   ]
  },
  {
   "cell_type": "markdown",
   "metadata": {},
   "source": [
    "### Authenticate with Twitter"
   ]
  },
  {
   "cell_type": "code",
   "execution_count": 3,
   "metadata": {
    "collapsed": true
   },
   "outputs": [],
   "source": [
    "CONSUMER_KEY = twitter_login.CONSUMER_KEY\n",
    "CONSUMER_SECRET = twitter_login.CONSUMER_SECRET\n",
    "ACCESS_TOKEN = twitter_login.ACCESS_TOKEN\n",
    "ACCESS_TOKEN_SECRET = twitter_login.ACCESS_TOKEN_SECRET\n",
    "\n",
    "# Authenticate\n",
    "\n",
    "auth = tweepy.OAuthHandler(CONSUMER_KEY, CONSUMER_SECRET)\n",
    "auth.set_access_token(ACCESS_TOKEN, ACCESS_TOKEN_SECRET)\n",
    "api = tweepy.API(auth)"
   ]
  },
  {
   "cell_type": "markdown",
   "metadata": {},
   "source": [
    "## Getting the tweets\n",
    "This is limited to the last ~3200 tweets from the API. :("
   ]
  },
  {
   "cell_type": "code",
   "execution_count": 4,
   "metadata": {
    "collapsed": false
   },
   "outputs": [
    {
     "name": "stdout",
     "output_type": "stream",
     "text": [
      "getting tweets before 831524681643651072\n",
      "...400 tweets downloaded so far\n",
      "getting tweets before 831252889779724289\n",
      "...600 tweets downloaded so far\n",
      "getting tweets before 830991166854275071\n",
      "...800 tweets downloaded so far\n",
      "getting tweets before 830736992128364543\n",
      "...1000 tweets downloaded so far\n",
      "getting tweets before 830495399777542144\n",
      "...1200 tweets downloaded so far\n",
      "getting tweets before 830228419757670405\n",
      "...1400 tweets downloaded so far\n",
      "getting tweets before 829989343716577279\n",
      "...1600 tweets downloaded so far\n",
      "getting tweets before 829750270015971328\n",
      "...1800 tweets downloaded so far\n",
      "getting tweets before 829523998090334208\n",
      "...2000 tweets downloaded so far\n",
      "getting tweets before 829350130147012607\n",
      "...2200 tweets downloaded so far\n",
      "getting tweets before 829118824519712767\n",
      "...2400 tweets downloaded so far\n",
      "getting tweets before 828941415791075327\n",
      "...2600 tweets downloaded so far\n",
      "getting tweets before 828650522823557121\n",
      "...2800 tweets downloaded so far\n",
      "getting tweets before 828381468732882943\n",
      "...3000 tweets downloaded so far\n",
      "getting tweets before 828118492201226239\n",
      "...3200 tweets downloaded so far\n",
      "getting tweets before 827880445610188799\n",
      "...3227 tweets downloaded so far\n",
      "getting tweets before 827847732257775617\n",
      "...3227 tweets downloaded so far\n"
     ]
    }
   ],
   "source": [
    "# by yanofsky, https://gist.github.com/yanofsky/5436496\n",
    "\n",
    "screen_name=\"infinite_scream\"\n",
    "\n",
    "#initialize a list to hold all the tweepy Tweets\n",
    "alltweets = []\n",
    "\n",
    "#make initial request for most recent tweets (200 is the maximum allowed count)\n",
    "new_tweets = api.user_timeline(screen_name = screen_name,count=200)\n",
    "\n",
    "#save most recent tweets\n",
    "alltweets.extend(new_tweets)\n",
    "\n",
    "#save the id of the oldest tweet less one\n",
    "oldest = alltweets[-1].id - 1\n",
    "\n",
    "#keep grabbing tweets until there are no tweets left to grab\n",
    "while len(new_tweets) > 0:\n",
    "    print(\"getting tweets before %s\" % (oldest))\n",
    "\n",
    "    #all subsiquent requests use the max_id param to prevent duplicates\n",
    "    new_tweets = api.user_timeline(screen_name = screen_name,count=200,max_id=oldest)\n",
    "\n",
    "    #save most recent tweets\n",
    "    alltweets.extend(new_tweets)\n",
    "\n",
    "    #update the id of the oldest tweet less one\n",
    "    oldest = alltweets[-1].id - 1\n",
    "\n",
    "    print(\"...%s tweets downloaded so far\" % (len(alltweets)))"
   ]
  },
  {
   "cell_type": "markdown",
   "metadata": {},
   "source": [
    "## Data processing\n",
    "First, go through all the tweets and pull out a few key variables, putting it into a two-dimensional array."
   ]
  },
  {
   "cell_type": "code",
   "execution_count": 5,
   "metadata": {
    "collapsed": false
   },
   "outputs": [],
   "source": [
    "outtweets = [[tweet.id_str, tweet.created_at, tweet.favorite_count, tweet.retweet_count, \\\n",
    "              tweet.favorite_count + tweet.retweet_count, (tweet.in_reply_to_screen_name is not None), \\\n",
    "              tweet.text, len(tweet.text)] for tweet in alltweets]"
   ]
  },
  {
   "cell_type": "markdown",
   "metadata": {},
   "source": [
    "Convert to a pandas DataFrame for easy processing"
   ]
  },
  {
   "cell_type": "code",
   "execution_count": 6,
   "metadata": {
    "collapsed": false
   },
   "outputs": [],
   "source": [
    "tweets_df = pd.DataFrame.from_dict(outtweets)"
   ]
  },
  {
   "cell_type": "code",
   "execution_count": 7,
   "metadata": {
    "collapsed": false
   },
   "outputs": [],
   "source": [
    "tweets_df.columns = [\"id_str\", \"created_at\", \"favorite_count\", \"retweet_count\", \"fav_rt_count\", \\\n",
    "                     \"is_reply\", \"tweet_text\", \"tweet_length\"]"
   ]
  },
  {
   "cell_type": "markdown",
   "metadata": {},
   "source": [
    "Peek into this dataframe, pulling out rows 1000 to 1005"
   ]
  },
  {
   "cell_type": "code",
   "execution_count": 8,
   "metadata": {
    "collapsed": false
   },
   "outputs": [
    {
     "data": {
      "text/html": [
       "<div>\n",
       "<table border=\"1\" class=\"dataframe\">\n",
       "  <thead>\n",
       "    <tr style=\"text-align: right;\">\n",
       "      <th></th>\n",
       "      <th>id_str</th>\n",
       "      <th>created_at</th>\n",
       "      <th>favorite_count</th>\n",
       "      <th>retweet_count</th>\n",
       "      <th>fav_rt_count</th>\n",
       "      <th>is_reply</th>\n",
       "      <th>tweet_text</th>\n",
       "      <th>tweet_length</th>\n",
       "    </tr>\n",
       "  </thead>\n",
       "  <tbody>\n",
       "    <tr>\n",
       "      <th>1000</th>\n",
       "      <td>830495399777538049</td>\n",
       "      <td>2017-02-11 19:15:07</td>\n",
       "      <td>4</td>\n",
       "      <td>1</td>\n",
       "      <td>5</td>\n",
       "      <td>True</td>\n",
       "      <td>@soheilinho AAAAHHHHHHHHHHHHHHHH</td>\n",
       "      <td>32</td>\n",
       "    </tr>\n",
       "    <tr>\n",
       "      <th>1001</th>\n",
       "      <td>830495399764967430</td>\n",
       "      <td>2017-02-11 19:15:07</td>\n",
       "      <td>4</td>\n",
       "      <td>1</td>\n",
       "      <td>5</td>\n",
       "      <td>True</td>\n",
       "      <td>@amo_nikotin AAAAAAAAAHHHH</td>\n",
       "      <td>26</td>\n",
       "    </tr>\n",
       "    <tr>\n",
       "      <th>1002</th>\n",
       "      <td>830495176862875648</td>\n",
       "      <td>2017-02-11 19:14:14</td>\n",
       "      <td>18</td>\n",
       "      <td>4</td>\n",
       "      <td>22</td>\n",
       "      <td>False</td>\n",
       "      <td>AAAAAAAAAAAAAAAAAAAHHHHHHHH</td>\n",
       "      <td>27</td>\n",
       "    </tr>\n",
       "    <tr>\n",
       "      <th>1003</th>\n",
       "      <td>830492883224498178</td>\n",
       "      <td>2017-02-11 19:05:07</td>\n",
       "      <td>7</td>\n",
       "      <td>1</td>\n",
       "      <td>8</td>\n",
       "      <td>True</td>\n",
       "      <td>@amo_nikotin AAAAAAAAHHHHHHHHHHH</td>\n",
       "      <td>32</td>\n",
       "    </tr>\n",
       "    <tr>\n",
       "      <th>1004</th>\n",
       "      <td>830492883220365312</td>\n",
       "      <td>2017-02-11 19:05:07</td>\n",
       "      <td>1</td>\n",
       "      <td>1</td>\n",
       "      <td>2</td>\n",
       "      <td>True</td>\n",
       "      <td>@MoBlondel AAAAAAAAAAAAAHHHHHHHH</td>\n",
       "      <td>32</td>\n",
       "    </tr>\n",
       "  </tbody>\n",
       "</table>\n",
       "</div>"
      ],
      "text/plain": [
       "                  id_str          created_at  favorite_count  retweet_count  \\\n",
       "1000  830495399777538049 2017-02-11 19:15:07               4              1   \n",
       "1001  830495399764967430 2017-02-11 19:15:07               4              1   \n",
       "1002  830495176862875648 2017-02-11 19:14:14              18              4   \n",
       "1003  830492883224498178 2017-02-11 19:05:07               7              1   \n",
       "1004  830492883220365312 2017-02-11 19:05:07               1              1   \n",
       "\n",
       "      fav_rt_count is_reply                        tweet_text  tweet_length  \n",
       "1000             5     True  @soheilinho AAAAHHHHHHHHHHHHHHHH            32  \n",
       "1001             5     True        @amo_nikotin AAAAAAAAAHHHH            26  \n",
       "1002            22    False       AAAAAAAAAAAAAAAAAAAHHHHHHHH            27  \n",
       "1003             8     True  @amo_nikotin AAAAAAAAHHHHHHHHHHH            32  \n",
       "1004             2     True  @MoBlondel AAAAAAAAAAAAAHHHHHHHH            32  "
      ]
     },
     "execution_count": 8,
     "metadata": {},
     "output_type": "execute_result"
    }
   ],
   "source": [
    "tweets_df[1000:1005]"
   ]
  },
  {
   "cell_type": "markdown",
   "metadata": {},
   "source": [
    "Filter out tweets that were replies to specific users."
   ]
  },
  {
   "cell_type": "code",
   "execution_count": 9,
   "metadata": {
    "collapsed": false
   },
   "outputs": [],
   "source": [
    "tweets_noreplies_df = tweets_df[tweets_df['is_reply'] == False]\n"
   ]
  },
  {
   "cell_type": "markdown",
   "metadata": {},
   "source": [
    "Time is in UTC / GMT-0 from the API, convert to US/Pacific"
   ]
  },
  {
   "cell_type": "code",
   "execution_count": 10,
   "metadata": {
    "collapsed": false
   },
   "outputs": [
    {
     "data": {
      "text/plain": [
       "created_at\n",
       "2017-02-14 19:34:15-08:00    18\n",
       "2017-02-14 19:24:14-08:00    26\n",
       "2017-02-14 19:14:14-08:00    36\n",
       "2017-02-14 19:04:14-08:00    19\n",
       "2017-02-14 18:54:14-08:00    27\n",
       "2017-02-14 18:44:14-08:00    54\n",
       "2017-02-14 18:34:15-08:00    14\n",
       "2017-02-14 18:24:15-08:00    39\n",
       "2017-02-14 18:14:15-08:00    32\n",
       "2017-02-14 18:04:14-08:00    11\n",
       "Name: favorite_count, dtype: int64"
      ]
     },
     "execution_count": 10,
     "metadata": {},
     "output_type": "execute_result"
    }
   ],
   "source": [
    "fav_count = tweets_noreplies_df.set_index(\"created_at\")[\"favorite_count\"]\n",
    "fav_count = fav_count.tz_localize(pytz.utc).tz_convert(pytz.timezone('US/Pacific'))\n",
    "fav_count[0:10]"
   ]
  },
  {
   "cell_type": "markdown",
   "metadata": {},
   "source": [
    "## Visualization"
   ]
  },
  {
   "cell_type": "code",
   "execution_count": 11,
   "metadata": {
    "collapsed": false
   },
   "outputs": [
    {
     "data": {
      "text/plain": [
       "<matplotlib.text.Text at 0x7fe0552ac780>"
      ]
     },
     "execution_count": 11,
     "metadata": {},
     "output_type": "execute_result"
    },
    {
     "data": {
      "image/png": "[encoded data removed]",
      "text/plain": [
       "<matplotlib.figure.Figure at 0x7fe089490e80>"
      ]
     },
     "metadata": {},
     "output_type": "display_data"
    }
   ],
   "source": [
    "ax = fav_count.plot(figsize=[14,8], fontsize=16)\n",
    "ax.set_title(\"Number of favorites to @infinite_scream tweets\", {\"fontsize\":20})\n",
    "ax.set_ylabel(\"Number of favorites\", {\"fontsize\":20})\n",
    "ax.set_xlabel(\"Time (Pacific Standard Time / GMT-8)\", {\"fontsize\":20})"
   ]
  },
  {
   "cell_type": "markdown",
   "metadata": {},
   "source": [
    "## Output to file"
   ]
  },
  {
   "cell_type": "code",
   "execution_count": 12,
   "metadata": {
    "collapsed": false
   },
   "outputs": [],
   "source": [
    "tweets_df.index.name = \"tweet_num\"\n",
    "tweets_df.to_csv(\"infinite_scream.csv\")\n",
    "tweets_df.to_json(\"infinite_scream.json\")"
   ]
  },
  {
   "cell_type": "code",
   "execution_count": 13,
   "metadata": {
    "collapsed": false
   },
   "outputs": [
    {
     "name": "stdout",
     "output_type": "stream",
     "text": [
      "tweet_num,id_str,created_at,favorite_count,retweet_count,fav_rt_count,is_reply,tweet_text,tweet_length\r\n",
      "0,831708391173214210,2017-02-15 03:35:07,1,0,1,True,@cake_cartel AAAAAAAAAAAAAAAAAAAHHHHHHHH,40\r\n",
      "1,831708391168942080,2017-02-15 03:35:07,0,0,0,True,@josemarquez AAAAAAAAAAAAHH,27\r\n",
      "2,831708391164805120,2017-02-15 03:35:07,1,0,1,True,@lipsetthistory AAAAAAAAAAAAAAAAHHHHHHHHHH,42\r\n",
      "3,831708391164801025,2017-02-15 03:35:07,0,0,0,True,@WomenCanSee AAAAAAAAAAAAAAAAHHHHHH,35\r\n",
      "4,831708391164743680,2017-02-15 03:35:07,0,0,0,True,@WeKilledGaming AAAAAAAAAAAAHHHHHHHHHHHHHHH,43\r\n",
      "5,831708391160610822,2017-02-15 03:35:07,1,0,1,True,@OnlyMeIsMe AAAAAAAAAHHHHHHH,28\r\n",
      "6,831708171806842880,2017-02-15 03:34:15,18,8,26,False,AAH,3\r\n",
      "7,831707139941027841,2017-02-15 03:30:09,0,0,0,True,@WeKilledGaming AAAHHHHHHHHHHHHHH,33\r\n",
      "8,831707139752222720,2017-02-15 03:30:09,0,0,0,True,@fernandaNYT AAAAAAAAAAAAAAAAHHHHHH,35\r\n"
     ]
    }
   ],
   "source": [
    "!head infinite_scream.csv"
   ]
  },
  {
   "cell_type": "code",
   "execution_count": null,
   "metadata": {
    "collapsed": true
   },
   "outputs": [],
   "source": []
  }
 ],
 "metadata": {
  "kernelspec": {
   "display_name": "Python [conda root]",
   "language": "python",
   "name": "conda-root-py"
  },
  "language_info": {
   "codemirror_mode": {
    "name": "ipython",
    "version": 3
   },
   "file_extension": ".py",
   "mimetype": "text/x-python",
   "name": "python",
   "nbconvert_exporter": "python",
   "pygments_lexer": "ipython3",
   "version": "3.5.2"
  }
 },
 "nbformat": 4,
 "nbformat_minor": 2
}
